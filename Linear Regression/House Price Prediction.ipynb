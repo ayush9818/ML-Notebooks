{
 "cells": [
  {
   "cell_type": "markdown",
   "metadata": {
    "colab_type": "text",
    "id": "UdLnXn63kCC4"
   },
   "source": [
    "## Importing Libraries"
   ]
  },
  {
   "cell_type": "code",
   "execution_count": 24,
   "metadata": {
    "colab": {},
    "colab_type": "code",
    "id": "M7-T3nwUqIM5"
   },
   "outputs": [],
   "source": [
    "'''\n",
    "Numpy : used for multidimensional array and matrices\n",
    "Pandas: used for read and write operation on .csv files\n",
    "matplotlib : used for ploting curves and graphs\n",
    "seaborn : used for data visualization\n",
    "'''\n",
    "import numpy as np \n",
    "import pandas as pd\n",
    "import matplotlib.pyplot as plt\n",
    "import seaborn as sns\n",
    "from sklearn.model_selection import train_test_split\n",
    "from sklearn.preprocessing import MinMaxScaler"
   ]
  },
  {
   "cell_type": "markdown",
   "metadata": {
    "colab_type": "text",
    "id": "vr6qNG-AqINI"
   },
   "source": [
    "## Data loading and Inspection\n"
   ]
  },
  {
   "cell_type": "code",
   "execution_count": 4,
   "metadata": {
    "colab": {},
    "colab_type": "code",
    "id": "_w7PmH2zqINK"
   },
   "outputs": [],
   "source": [
    "df = pd.DataFrame(pd.read_csv(\"Housing_1.csv\"))"
   ]
  },
  {
   "cell_type": "code",
   "execution_count": 5,
   "metadata": {
    "colab": {},
    "colab_type": "code",
    "id": "wIh8pSMbqINR",
    "outputId": "1114f2b6-78a9-41d5-b9e5-72e000ab4956"
   },
   "outputs": [
    {
     "name": "stdout",
     "output_type": "stream",
     "text": [
      "       price    area  bedrooms  bathrooms  stories mainroad guestroom  \\\n",
      "540  1820000  3000.0         2        1.0        1      yes        no   \n",
      "541  1767150  2400.0         3        1.0        1       no        no   \n",
      "542  1750000  3620.0         2        1.0        1      yes        no   \n",
      "543  1750000  2910.0         3        1.0        1       no        no   \n",
      "544  1750000  3850.0         3        1.0        2      yes        no   \n",
      "\n",
      "    basement hotwaterheating airconditioning  parking prefarea  \\\n",
      "540      yes              no              no        2       no   \n",
      "541       no              no              no        0       no   \n",
      "542       no              no              no        0       no   \n",
      "543       no              no              no        0       no   \n",
      "544       no              no              no        0       no   \n",
      "\n",
      "    furnishingstatus  \n",
      "540      unfurnished  \n",
      "541   semi-furnished  \n",
      "542      unfurnished  \n",
      "543        furnished  \n",
      "544      unfurnished  \n"
     ]
    }
   ],
   "source": [
    "# df.head() ---> prints top 5 entries\n",
    "# df.tail() ---> prints last 5 entries\n",
    "print(df.tail())"
   ]
  },
  {
   "cell_type": "code",
   "execution_count": 6,
   "metadata": {
    "colab": {},
    "colab_type": "code",
    "id": "8f-kckRsqINZ",
    "outputId": "0b17144e-0d6a-4d89-d609-3ba110d58f2b"
   },
   "outputs": [
    {
     "name": "stdout",
     "output_type": "stream",
     "text": [
      "(545, 13)\n",
      "<class 'pandas.core.frame.DataFrame'>\n",
      "RangeIndex: 545 entries, 0 to 544\n",
      "Data columns (total 13 columns):\n",
      " #   Column            Non-Null Count  Dtype  \n",
      "---  ------            --------------  -----  \n",
      " 0   price             545 non-null    int64  \n",
      " 1   area              542 non-null    float64\n",
      " 2   bedrooms          545 non-null    int64  \n",
      " 3   bathrooms         539 non-null    float64\n",
      " 4   stories           545 non-null    int64  \n",
      " 5   mainroad          545 non-null    object \n",
      " 6   guestroom         544 non-null    object \n",
      " 7   basement          545 non-null    object \n",
      " 8   hotwaterheating   544 non-null    object \n",
      " 9   airconditioning   545 non-null    object \n",
      " 10  parking           545 non-null    int64  \n",
      " 11  prefarea          545 non-null    object \n",
      " 12  furnishingstatus  542 non-null    object \n",
      "dtypes: float64(2), int64(4), object(7)\n",
      "memory usage: 55.5+ KB\n",
      "None\n"
     ]
    }
   ],
   "source": [
    "print(df.shape)\n",
    "print(df.info())"
   ]
  },
  {
   "cell_type": "code",
   "execution_count": 7,
   "metadata": {
    "colab": {},
    "colab_type": "code",
    "id": "IN7p_lb4qINg",
    "outputId": "65726855-5928-4bc4-dd72-d4a85c4faf1a"
   },
   "outputs": [
    {
     "data": {
      "text/plain": [
       "price               0\n",
       "area                3\n",
       "bedrooms            0\n",
       "bathrooms           6\n",
       "stories             0\n",
       "mainroad            0\n",
       "guestroom           1\n",
       "basement            0\n",
       "hotwaterheating     1\n",
       "airconditioning     0\n",
       "parking             0\n",
       "prefarea            0\n",
       "furnishingstatus    3\n",
       "dtype: int64"
      ]
     },
     "execution_count": 7,
     "metadata": {},
     "output_type": "execute_result"
    }
   ],
   "source": [
    "# checking for the Nan/ null values\n",
    "df.isnull().sum() "
   ]
  },
  {
   "cell_type": "code",
   "execution_count": 8,
   "metadata": {
    "colab": {},
    "colab_type": "code",
    "id": "P_ZRvGn7qINk",
    "outputId": "4661bca7-a487-4894-d594-32546d0ec245"
   },
   "outputs": [
    {
     "name": "stdout",
     "output_type": "stream",
     "text": [
      "Unique Values for bedrooms: [4 3 5 2 6 1]\n",
      "Unique Values for bathrooms: [ 2.  4.  1.  3. nan]\n",
      "Unique Values for stories: [3 4 2 1]\n",
      "Unique Values for mainroad: ['yes' 'no']\n",
      "Unique Values for guestroom: [nan 'no' 'yes']\n",
      "Unique Values for basement: ['no' 'yes']\n",
      "Unique Values for hotwaterheating: ['no' 'yes' nan]\n",
      "Unique Values for airconditioning: ['yes' 'no']\n",
      "Unique Values for parking: [2 3 0 1]\n",
      "Unique Values for prefarea: ['yes' 'no']\n",
      "Unique Values for furnishingstatus: ['furnished' 'semi-furnished' 'unfurnished' nan]\n"
     ]
    }
   ],
   "source": [
    "# going through every column(parameters) of data and checking for discrete data type\n",
    "\n",
    "for key in df.keys():\n",
    "    if key == 'price' or key == 'area':\n",
    "        continue\n",
    "    else:\n",
    "        print(\"Unique Values for {}: {}\".format(key, df[key].unique()))"
   ]
  },
  {
   "cell_type": "code",
   "execution_count": 9,
   "metadata": {
    "colab": {},
    "colab_type": "code",
    "id": "aWquOeWlqINn",
    "outputId": "b65b4fe5-d8c0-46e9-acbc-b1c988d2bf2d"
   },
   "outputs": [
    {
     "name": "stdout",
     "output_type": "stream",
     "text": [
      "Mean area : 5136.9095940959405\n",
      "Mode of Bathrooms:1.0\n",
      "Mode of guestroom:no\n",
      "Mode of hotwaterheating:no\n",
      "Mode of furnishingstatus:semi-furnished\n"
     ]
    }
   ],
   "source": [
    "'''\n",
    "price               0\n",
    "area                3\n",
    "bedrooms            0\n",
    "bathrooms           6\n",
    "stories             0\n",
    "mainroad            0\n",
    "guestroom           1\n",
    "basement            0\n",
    "hotwaterheating     1\n",
    "airconditioning     0\n",
    "parking             0\n",
    "prefarea            0\n",
    "furnishingstatus    3\n",
    "'''\n",
    "\n",
    "# Analysis mean for continuous variables and mode for discrete type variables\n",
    "\n",
    "mean_area = df['area'].mean()\n",
    "print(\"Mean area : {}\".format(mean_area))\n",
    "print(\"Mode of Bathrooms:{}\".format(df['bathrooms'].mode()[0]))\n",
    "print(\"Mode of guestroom:{}\".format(df['guestroom'].mode()[0]))\n",
    "print(\"Mode of hotwaterheating:{}\".format(df['hotwaterheating'].mode()[0]))\n",
    "print(\"Mode of furnishingstatus:{}\".format(df['furnishingstatus'].mode()[0]))"
   ]
  },
  {
   "cell_type": "code",
   "execution_count": 10,
   "metadata": {
    "colab": {},
    "colab_type": "code",
    "id": "xNvkfIFgqINs"
   },
   "outputs": [],
   "source": [
    "# Since the dataset is small in size, we can not drop any row, each and every information is useful in small datasets\n",
    "# replacing continuous value with the mean value\n",
    "# replacing discrete value with the mode value\n",
    "\n",
    "df['area'] = df['area'].replace(to_replace =  np.nan,  \n",
    "                            value = df['area'].mean()) \n",
    "df['bathrooms'] = df['bathrooms'].replace(to_replace=np.nan, value = df['bathrooms'].mode()[0])\n",
    "df['guestroom'] = df['guestroom'].replace(to_replace=np.nan, value = df['guestroom'].mode()[0])\n",
    "df['hotwaterheating'] = df['hotwaterheating'].replace(to_replace=np.nan, value=df['hotwaterheating'].mode()[0])\n",
    "df['furnishingstatus'] = df['furnishingstatus'].replace(to_replace=np.nan, value = df['furnishingstatus'].mode()[0])"
   ]
  },
  {
   "cell_type": "code",
   "execution_count": 11,
   "metadata": {
    "colab": {},
    "colab_type": "code",
    "id": "_OHyQBaoqINv",
    "outputId": "1062693e-17ec-41d4-d23f-eb22d15941ca"
   },
   "outputs": [
    {
     "data": {
      "text/plain": [
       "price               0\n",
       "area                0\n",
       "bedrooms            0\n",
       "bathrooms           0\n",
       "stories             0\n",
       "mainroad            0\n",
       "guestroom           0\n",
       "basement            0\n",
       "hotwaterheating     0\n",
       "airconditioning     0\n",
       "parking             0\n",
       "prefarea            0\n",
       "furnishingstatus    0\n",
       "dtype: int64"
      ]
     },
     "execution_count": 11,
     "metadata": {},
     "output_type": "execute_result"
    }
   ],
   "source": [
    "df.isnull().sum()"
   ]
  },
  {
   "cell_type": "markdown",
   "metadata": {
    "colab_type": "text",
    "id": "3keQX5lPpPDQ"
   },
   "source": [
    "## Outlier Analysis Using Boxplots\n",
    "\n",
    "\n",
    "#### Outlier are the points that are far away from the most of the points in the data distribution. These can degrade the performance of the linear regression model, so these are very important to remove"
   ]
  },
  {
   "cell_type": "code",
   "execution_count": null,
   "metadata": {
    "colab": {},
    "colab_type": "code",
    "id": "9Vo3QPtpqINz",
    "outputId": "91da8e51-3fd8-48c6-eec9-29bd08d55a4b"
   },
   "outputs": [
    {
     "data": {
      "image/png": "[encoded data removed]",
      "text/plain": [
       "<Figure size 720x360 with 6 Axes>"
      ]
     },
     "metadata": {
      "needs_background": "light",
      "tags": []
     },
     "output_type": "display_data"
    }
   ],
   "source": [
    "# outlier analysis\n",
    "\n",
    "fig, axs = plt.subplots(2,3, figsize = (10,5))\n",
    "plt1 = sns.boxplot(df['price'], ax = axs[0][0])\n",
    "plt2 = sns.boxplot(df['area'], ax = axs[0][1])\n",
    "plt3 = sns.boxplot(df['bedrooms'], ax = axs[0][2])\n",
    "plt4 = sns.boxplot(df['bathrooms'], ax = axs[1][0])\n",
    "plt5 = sns.boxplot(df['stories'], ax = axs[1][1])\n",
    "plt6 = sns.boxplot(df['parking'], ax = axs[1][2])\n",
    "\n",
    "plt.tight_layout()"
   ]
  },
  {
   "cell_type": "code",
   "execution_count": 12,
   "metadata": {
    "colab": {},
    "colab_type": "code",
    "id": "UerHWddqqIN2",
    "outputId": "8bc0fba3-24a2-4244-eec8-1aa35bd3b58d"
   },
   "outputs": [
    {
     "name": "stdout",
     "output_type": "stream",
     "text": [
      "count    5.450000e+02\n",
      "mean     4.766729e+06\n",
      "std      1.870440e+06\n",
      "min      1.750000e+06\n",
      "25%      3.430000e+06\n",
      "50%      4.340000e+06\n",
      "75%      5.740000e+06\n",
      "max      1.330000e+07\n",
      "Name: price, dtype: float64\n",
      "count      545.000000\n",
      "mean      5136.909594\n",
      "std       2160.938974\n",
      "min       1650.000000\n",
      "25%       3600.000000\n",
      "50%       4600.000000\n",
      "75%       6360.000000\n",
      "max      16200.000000\n",
      "Name: area, dtype: float64\n"
     ]
    }
   ],
   "source": [
    "# outlier removal for price\n",
    "print(df['price'].describe())\n",
    "print(df['area'].describe())"
   ]
  },
  {
   "cell_type": "code",
   "execution_count": 13,
   "metadata": {
    "colab": {},
    "colab_type": "code",
    "id": "FX0t2Bx_qIN4",
    "outputId": "14f26fe0-3e05-44cb-a32d-0201a12304d3"
   },
   "outputs": [
    {
     "name": "stdout",
     "output_type": "stream",
     "text": [
      "9205000.0\n",
      "(15, 13)\n"
     ]
    },
    {
     "data": {
      "image/png": "[encoded data removed]",
      "text/plain": [
       "<Figure size 432x288 with 1 Axes>"
      ]
     },
     "metadata": {
      "needs_background": "light"
     },
     "output_type": "display_data"
    }
   ],
   "source": [
    "# Removing outliers for price\n",
    "plt.boxplot(df['price'])\n",
    "Q3 = df.price.quantile(0.75)\n",
    "Q1 = df.price.quantile(0.25)\n",
    "IQR = Q3-Q1\n",
    "print(Q3+1.5*IQR)\n",
    "print(df[df['price'] > Q3+1.5*IQR].shape)\n",
    "df.drop(df[df['price'] > Q3+1.5*IQR].index, axis = 0, inplace = True)"
   ]
  },
  {
   "cell_type": "code",
   "execution_count": 14,
   "metadata": {
    "colab": {},
    "colab_type": "code",
    "id": "w4Z-nGl1qIN7",
    "outputId": "5013dabf-8cb5-499b-cb80-8624cd7b5b4c"
   },
   "outputs": [
    {
     "name": "stdout",
     "output_type": "stream",
     "text": [
      "10305.0\n",
      "(14, 13)\n"
     ]
    },
    {
     "data": {
      "image/png": "[encoded data removed]",
      "text/plain": [
       "<Figure size 432x288 with 1 Axes>"
      ]
     },
     "metadata": {
      "needs_background": "light"
     },
     "output_type": "display_data"
    }
   ],
   "source": [
    "# Removing outliers for area\n",
    "plt.boxplot(df.area)\n",
    "Q3 = df['area'].quantile(0.75)\n",
    "Q1 = df['area'].quantile(0.25)\n",
    "IQR = Q3-Q1\n",
    "print(Q3+1.5*IQR)\n",
    "print(df[df['area']>Q3+1.5*IQR].shape)\n",
    "df.drop(df[df['area'] > Q3+1.5*IQR].index, axis = 0, inplace = True)"
   ]
  },
  {
   "cell_type": "code",
   "execution_count": 15,
   "metadata": {
    "colab": {},
    "colab_type": "code",
    "id": "gxe9C_M1qIN-",
    "outputId": "26b05dea-0e95-4656-ea9b-e5930633d2f3"
   },
   "outputs": [
    {
     "data": {
      "image/png": "[encoded data removed]",
      "text/plain": [
       "<Figure size 720x180 with 2 Axes>"
      ]
     },
     "metadata": {
      "needs_background": "light"
     },
     "output_type": "display_data"
    }
   ],
   "source": [
    "fig, axs = plt.subplots(1,2, figsize = (10,2.5))\n",
    "plt1 = sns.boxplot(df['price'], ax = axs[0])\n",
    "plt2 = sns.boxplot(df['area'], ax = axs[1])\n",
    "\n",
    "plt.tight_layout()"
   ]
  },
  {
   "cell_type": "markdown",
   "metadata": {
    "colab_type": "text",
    "id": "63wdVGcUEEAa"
   },
   "source": [
    "***Finding Effect of different parameters on Price***"
   ]
  },
  {
   "cell_type": "code",
   "execution_count": 16,
   "metadata": {
    "colab": {},
    "colab_type": "code",
    "id": "QYNKmzP_qIOA",
    "outputId": "534d128c-9ec1-47a3-a7a3-b8e9d1d5991e"
   },
   "outputs": [
    {
     "data": {
      "image/png": "[encoded data removed]",
      "text/plain": [
       "<Figure size 1440x864 with 6 Axes>"
      ]
     },
     "metadata": {
      "needs_background": "light"
     },
     "output_type": "display_data"
    }
   ],
   "source": [
    "plt.figure(figsize=(20, 12))\n",
    "plt.subplot(2,3,1)\n",
    "sns.boxplot(x = 'mainroad', y = 'price', data = df)\n",
    "plt.subplot(2,3,2)\n",
    "sns.boxplot(x = 'guestroom', y = 'price', data = df)\n",
    "plt.subplot(2,3,3)\n",
    "sns.boxplot(x = 'basement', y = 'price', data = df)\n",
    "plt.subplot(2,3,4)\n",
    "sns.boxplot(x = 'hotwaterheating', y = 'price', data = df)\n",
    "plt.subplot(2,3,5)\n",
    "sns.boxplot(x = 'airconditioning', y = 'price', data = df)\n",
    "plt.subplot(2,3,6)\n",
    "sns.boxplot(x = 'furnishingstatus', y = 'price', data = df)\n",
    "plt.show()\n"
   ]
  },
  {
   "cell_type": "code",
   "execution_count": 17,
   "metadata": {
    "colab": {},
    "colab_type": "code",
    "id": "bAylcNjiqIOI"
   },
   "outputs": [],
   "source": [
    "'''\n",
    "mainroad            0\n",
    "guestroom           1\n",
    "basement            0\n",
    "hotwaterheating     1\n",
    "airconditioning     0\n",
    "prefarea            0\n",
    "'''\n",
    "# Model only takes the numerical values, so it is important to convert the categorical variables to numeric values\n",
    "# mapping Categorical features to binary\n",
    "features_to_map = ['mainroad', 'guestroom', 'basement', 'hotwaterheating', 'airconditioning', 'prefarea']\n",
    "def mapper(x):\n",
    "    return x.map({'yes':1, 'no':0})\n",
    "\n",
    "df[features_to_map] = df[features_to_map].apply(mapper)"
   ]
  },
  {
   "cell_type": "code",
   "execution_count": 18,
   "metadata": {
    "colab": {},
    "colab_type": "code",
    "id": "WDCPho1GqIOK",
    "outputId": "5e042aa0-f21e-4ef4-8183-99aaeadab5b1"
   },
   "outputs": [
    {
     "name": "stdout",
     "output_type": "stream",
     "text": [
      "    furnished  semi-furnished  unfurnished\n",
      "15          0               1            0\n",
      "16          0               0            1\n",
      "17          1               0            0\n",
      "18          1               0            0\n",
      "19          0               1            0\n",
      "Semi-Furnished Count:215\n",
      "Furnished Count : 126\n",
      "Unfurnished Count:175\n"
     ]
    }
   ],
   "source": [
    "status = pd.get_dummies(df['furnishingstatus'])\n",
    "print(status.head())\n",
    "print(\"Semi-Furnished Count:{}\".format(status[status['semi-furnished']==1].shape[0]))\n",
    "print(\"Furnished Count : {}\".format(status[status['furnished']==1].shape[0]))\n",
    "print(\"Unfurnished Count:{}\".format(status[status['unfurnished']==1].shape[0]))"
   ]
  },
  {
   "cell_type": "code",
   "execution_count": 19,
   "metadata": {
    "colab": {},
    "colab_type": "code",
    "id": "8yCCHTweqIOM",
    "outputId": "fc466bbc-0643-433e-da18-fb0bdd1c117c"
   },
   "outputs": [
    {
     "name": "stdout",
     "output_type": "stream",
     "text": [
      "    semi-furnished  unfurnished\n",
      "15               1            0\n",
      "16               0            1\n",
      "17               0            0\n",
      "18               0            0\n",
      "19               1            0\n"
     ]
    }
   ],
   "source": [
    "status = pd.get_dummies(df['furnishingstatus'], drop_first = True)\n",
    "print(status.head())"
   ]
  },
  {
   "cell_type": "code",
   "execution_count": 20,
   "metadata": {
    "colab": {},
    "colab_type": "code",
    "id": "WZlhY6vXqIOO",
    "outputId": "ed0b9bf3-ee45-421d-e75c-d0929275ca94"
   },
   "outputs": [
    {
     "name": "stdout",
     "output_type": "stream",
     "text": [
      "      price         area  bedrooms  bathrooms  stories  mainroad  guestroom  \\\n",
      "15  9100000  6000.000000         4        1.0        2         1          0   \n",
      "16  9100000  6600.000000         4        2.0        2         1          1   \n",
      "17  8960000  8500.000000         3        2.0        4         1          0   \n",
      "18  8890000  4600.000000         3        2.0        2         1          1   \n",
      "19  8855000  5136.909594         3        2.0        2         1          0   \n",
      "\n",
      "    basement  hotwaterheating  airconditioning  parking  prefarea  \\\n",
      "15         1                0                0        2         0   \n",
      "16         1                0                1        1         1   \n",
      "17         0                0                1        2         0   \n",
      "18         0                0                1        2         0   \n",
      "19         0                0                1        1         1   \n",
      "\n",
      "   furnishingstatus  semi-furnished  unfurnished  \n",
      "15   semi-furnished               1            0  \n",
      "16      unfurnished               0            1  \n",
      "17        furnished               0            0  \n",
      "18        furnished               0            0  \n",
      "19   semi-furnished               1            0  \n"
     ]
    }
   ],
   "source": [
    "# axis = 0 --> row\n",
    "# axis = 1 --> column\n",
    "\n",
    "df = pd.concat([df,status],axis=1)\n",
    "print(df.head())"
   ]
  },
  {
   "cell_type": "code",
   "execution_count": 21,
   "metadata": {
    "colab": {},
    "colab_type": "code",
    "id": "EJwb_iYPqIOR",
    "outputId": "082a4115-afc0-42d9-f17a-f9905952cc4b"
   },
   "outputs": [
    {
     "name": "stdout",
     "output_type": "stream",
     "text": [
      "      price         area  bedrooms  bathrooms  stories  mainroad  guestroom  \\\n",
      "15  9100000  6000.000000         4        1.0        2         1          0   \n",
      "16  9100000  6600.000000         4        2.0        2         1          1   \n",
      "17  8960000  8500.000000         3        2.0        4         1          0   \n",
      "18  8890000  4600.000000         3        2.0        2         1          1   \n",
      "19  8855000  5136.909594         3        2.0        2         1          0   \n",
      "\n",
      "    basement  hotwaterheating  airconditioning  parking  prefarea  \\\n",
      "15         1                0                0        2         0   \n",
      "16         1                0                1        1         1   \n",
      "17         0                0                1        2         0   \n",
      "18         0                0                1        2         0   \n",
      "19         0                0                1        1         1   \n",
      "\n",
      "    semi-furnished  unfurnished  \n",
      "15               1            0  \n",
      "16               0            1  \n",
      "17               0            0  \n",
      "18               0            0  \n",
      "19               1            0  \n"
     ]
    }
   ],
   "source": [
    "df.drop('furnishingstatus',axis=1,inplace = True)\n",
    "print(df.head())"
   ]
  },
  {
   "cell_type": "markdown",
   "metadata": {
    "colab_type": "text",
    "id": "MObvANWUFCwL"
   },
   "source": [
    "## Linear Regression model Building using Sklearn Library"
   ]
  },
  {
   "cell_type": "code",
   "execution_count": 23,
   "metadata": {
    "colab": {},
    "colab_type": "code",
    "id": "ILUOIlNBqIOT",
    "outputId": "282f5efa-f032-496a-9446-b28cdf363d9d"
   },
   "outputs": [
    {
     "name": "stdout",
     "output_type": "stream",
     "text": [
      "Train Set Size:(412, 14)\n",
      "Test Set Size:(104, 14)\n"
     ]
    }
   ],
   "source": [
    "# Splitting the dataset into train and test set\n",
    "\n",
    "df_train, df_test = train_test_split(df, train_size = 0.8, test_size = 0.2, random_state = 100)\n",
    "print(\"Train Set Size:{}\".format(df_train.shape))\n",
    "print(\"Test Set Size:{}\".format(df_test.shape))"
   ]
  },
  {
   "cell_type": "markdown",
   "metadata": {
    "colab_type": "text",
    "id": "G4lePm1WFivb"
   },
   "source": [
    "***Normalization of parameters in data***"
   ]
  },
  {
   "cell_type": "code",
   "execution_count": 25,
   "metadata": {
    "colab": {},
    "colab_type": "code",
    "id": "q0My8c8mqIOW",
    "outputId": "da16af80-788d-4e74-e992-91ba46e26b7b"
   },
   "outputs": [
    {
     "name": "stderr",
     "output_type": "stream",
     "text": [
      "/home/ayush/miniconda3/lib/python3.7/site-packages/ipykernel_launcher.py:4: SettingWithCopyWarning: \n",
      "A value is trying to be set on a copy of a slice from a DataFrame.\n",
      "Try using .loc[row_indexer,col_indexer] = value instead\n",
      "\n",
      "See the caveats in the documentation: https://pandas.pydata.org/pandas-docs/stable/user_guide/indexing.html#returning-a-view-versus-a-copy\n",
      "  after removing the cwd from sys.path.\n"
     ]
    },
    {
     "name": "stdout",
     "output_type": "stream",
     "text": [
      "        price      area  bedrooms  bathrooms   stories  mainroad  guestroom  \\\n",
      "434  0.209524  0.244136       0.6        0.0  0.333333         1          0   \n",
      "451  0.190476  0.589334       0.2        0.0  0.000000         1          0   \n",
      "531  0.065714  0.420119       0.4        0.0  0.000000         0          0   \n",
      "498  0.123810  0.035010       0.2        0.0  0.333333         1          0   \n",
      "479  0.161905  0.228731       0.6        0.0  0.333333         0          0   \n",
      "\n",
      "     basement  hotwaterheating  airconditioning  parking  prefarea  \\\n",
      "434         0                0                0      0.0         0   \n",
      "451         0                0                0      0.0         0   \n",
      "531         0                0                1      0.0         1   \n",
      "498         0                0                0      0.0         0   \n",
      "479         0                0                0      0.0         0   \n",
      "\n",
      "     semi-furnished  unfurnished  \n",
      "434               1            0  \n",
      "451               1            0  \n",
      "531               0            1  \n",
      "498               1            0  \n",
      "479               0            1  \n"
     ]
    },
    {
     "name": "stderr",
     "output_type": "stream",
     "text": [
      "/home/ayush/miniconda3/lib/python3.7/site-packages/pandas/core/indexing.py:1736: SettingWithCopyWarning: \n",
      "A value is trying to be set on a copy of a slice from a DataFrame.\n",
      "Try using .loc[row_indexer,col_indexer] = value instead\n",
      "\n",
      "See the caveats in the documentation: https://pandas.pydata.org/pandas-docs/stable/user_guide/indexing.html#returning-a-view-versus-a-copy\n",
      "  isetter(loc, value[:, i].tolist())\n"
     ]
    }
   ],
   "source": [
    "scaler = MinMaxScaler()\n",
    "#print(df_train.head())\n",
    "cols_to_transform = ['area', 'bedrooms', 'bathrooms', 'stories', 'parking','price']\n",
    "df_train[cols_to_transform] = scaler.fit_transform(df_train[cols_to_transform])\n",
    "print(df_train.head())"
   ]
  },
  {
   "cell_type": "code",
   "execution_count": 26,
   "metadata": {
    "colab": {},
    "colab_type": "code",
    "id": "D6XX_2swqIOZ",
    "outputId": "4e5ff13e-e0e3-44cb-ae9f-b1dfc9a78430"
   },
   "outputs": [
    {
     "name": "stdout",
     "output_type": "stream",
     "text": [
      "434    0.209524\n",
      "451    0.190476\n",
      "531    0.065714\n",
      "498    0.123810\n",
      "479    0.161905\n",
      "Name: price, dtype: float64\n",
      "         area  bedrooms  bathrooms   stories  mainroad  guestroom  basement  \\\n",
      "434  0.244136       0.6        0.0  0.333333         1          0         0   \n",
      "451  0.589334       0.2        0.0  0.000000         1          0         0   \n",
      "531  0.420119       0.4        0.0  0.000000         0          0         0   \n",
      "498  0.035010       0.2        0.0  0.333333         1          0         0   \n",
      "479  0.228731       0.6        0.0  0.333333         0          0         0   \n",
      "\n",
      "     hotwaterheating  airconditioning  parking  prefarea  semi-furnished  \\\n",
      "434                0                0      0.0         0               1   \n",
      "451                0                0      0.0         0               1   \n",
      "531                0                1      0.0         1               0   \n",
      "498                0                0      0.0         0               1   \n",
      "479                0                0      0.0         0               0   \n",
      "\n",
      "     unfurnished  \n",
      "434            0  \n",
      "451            0  \n",
      "531            1  \n",
      "498            0  \n",
      "479            1  \n"
     ]
    }
   ],
   "source": [
    "y_train = df_train.pop('price')\n",
    "X_train = df_train\n",
    "print(y_train.head())\n",
    "print(X_train.head())\n"
   ]
  },
  {
   "cell_type": "markdown",
   "metadata": {
    "colab_type": "text",
    "id": "Wt7xlSfpGNTk"
   },
   "source": [
    "***Importing linear Regression Model from Sklearn***"
   ]
  },
  {
   "cell_type": "code",
   "execution_count": 27,
   "metadata": {
    "colab": {},
    "colab_type": "code",
    "id": "ABY_ZWhyqIOa",
    "outputId": "949bda3e-1c49-4be2-c6ee-15911e54ca4d"
   },
   "outputs": [
    {
     "data": {
      "text/plain": [
       "LinearRegression()"
      ]
     },
     "execution_count": 27,
     "metadata": {},
     "output_type": "execute_result"
    }
   ],
   "source": [
    "from sklearn.linear_model import LinearRegression\n",
    "\n",
    "model = LinearRegression()\n",
    "model.fit(X_train,y_train) ##Train the model (Only one line for model training )"
   ]
  },
  {
   "cell_type": "markdown",
   "metadata": {
    "colab_type": "text",
    "id": "LAImuKCtIrfL"
   },
   "source": [
    "***Normalizing Testing Data***"
   ]
  },
  {
   "cell_type": "code",
   "execution_count": 28,
   "metadata": {
    "colab": {},
    "colab_type": "code",
    "id": "Ov445QPxqIOd",
    "outputId": "a524feb5-9825-4ad0-98ea-802aea51ce3a"
   },
   "outputs": [
    {
     "name": "stdout",
     "output_type": "stream",
     "text": [
      "        price      area  bedrooms  bathrooms   stories  mainroad  guestroom  \\\n",
      "243  0.371981  0.122449  0.333333        0.0  0.333333         1          0   \n",
      "515  0.082126  0.212245  0.333333        0.0  0.333333         1          0   \n",
      "157  0.502415  0.158776  0.666667        0.5  0.333333         0          1   \n",
      "262  0.357488  0.285714  0.000000        0.0  0.000000         1          1   \n",
      "493  0.130435  0.314286  0.333333        0.0  0.000000         1          0   \n",
      "\n",
      "     basement  hotwaterheating  airconditioning   parking  prefarea  \\\n",
      "243         1                0                0  0.000000         0   \n",
      "515         1                0                0  0.000000         0   \n",
      "157         1                0                0  0.333333         0   \n",
      "262         1                0                0  0.000000         0   \n",
      "493         0                0                0  0.000000         0   \n",
      "\n",
      "     semi-furnished  unfurnished  \n",
      "243               0            0  \n",
      "515               0            1  \n",
      "157               0            0  \n",
      "262               1            0  \n",
      "493               0            0  \n"
     ]
    },
    {
     "name": "stderr",
     "output_type": "stream",
     "text": [
      "/home/ayush/miniconda3/lib/python3.7/site-packages/ipykernel_launcher.py:1: SettingWithCopyWarning: \n",
      "A value is trying to be set on a copy of a slice from a DataFrame.\n",
      "Try using .loc[row_indexer,col_indexer] = value instead\n",
      "\n",
      "See the caveats in the documentation: https://pandas.pydata.org/pandas-docs/stable/user_guide/indexing.html#returning-a-view-versus-a-copy\n",
      "  \"\"\"Entry point for launching an IPython kernel.\n",
      "/home/ayush/miniconda3/lib/python3.7/site-packages/pandas/core/indexing.py:1736: SettingWithCopyWarning: \n",
      "A value is trying to be set on a copy of a slice from a DataFrame.\n",
      "Try using .loc[row_indexer,col_indexer] = value instead\n",
      "\n",
      "See the caveats in the documentation: https://pandas.pydata.org/pandas-docs/stable/user_guide/indexing.html#returning-a-view-versus-a-copy\n",
      "  isetter(loc, value[:, i].tolist())\n"
     ]
    }
   ],
   "source": [
    "df_test[cols_to_transform] = scaler.fit_transform(df_test[cols_to_transform])\n",
    "print(df_test.head())"
   ]
  },
  {
   "cell_type": "code",
   "execution_count": 29,
   "metadata": {
    "colab": {},
    "colab_type": "code",
    "id": "8_5TjRbTqIOg"
   },
   "outputs": [],
   "source": [
    "y_test = df_test.pop('price')\n",
    "X_test = df_test"
   ]
  },
  {
   "cell_type": "markdown",
   "metadata": {
    "colab_type": "text",
    "id": "1dJG_zsNI7Oi"
   },
   "source": [
    "***Predicting on Testing Data using trained Model***"
   ]
  },
  {
   "cell_type": "code",
   "execution_count": 30,
   "metadata": {
    "colab": {},
    "colab_type": "code",
    "id": "Ifwc4QFEqIOi"
   },
   "outputs": [],
   "source": [
    "y_pred = model.predict(X_test)\n",
    "y_pred_train = model.predict(X_train)"
   ]
  },
  {
   "cell_type": "markdown",
   "metadata": {
    "colab_type": "text",
    "id": "1d5fQVTvJYvS"
   },
   "source": [
    "***Finding Error in Prediction***"
   ]
  },
  {
   "cell_type": "code",
   "execution_count": 31,
   "metadata": {
    "colab": {},
    "colab_type": "code",
    "id": "AEZUA6SVqIOl",
    "outputId": "c5a9428e-ae4d-43e9-90c7-209fccc3ce13"
   },
   "outputs": [
    {
     "name": "stdout",
     "output_type": "stream",
     "text": [
      "Train Mean Square error : 0.0161\n",
      "Test Mean Square error : 0.0169\n"
     ]
    }
   ],
   "source": [
    "from sklearn.metrics import mean_squared_error\n",
    "print(\"Train Mean Square error : {:.4f}\".format(mean_squared_error(y_pred_train,y_train)))\n",
    "print(\"Test Mean Square error : {:.4f}\".format(mean_squared_error(y_pred,y_test)))"
   ]
  },
  {
   "cell_type": "code",
   "execution_count": 32,
   "metadata": {
    "colab": {},
    "colab_type": "code",
    "id": "nwIwFXrsqIOn"
   },
   "outputs": [],
   "source": [
    "scaler1 = MinMaxScaler()\n",
    "scaler1.min_, scaler1.scale_ = scaler.min_[2], scaler.scale_[2]"
   ]
  },
  {
   "cell_type": "code",
   "execution_count": 33,
   "metadata": {
    "colab": {},
    "colab_type": "code",
    "id": "yf_QRhR_qIOp"
   },
   "outputs": [],
   "source": [
    "y_pred = y_pred.reshape(-1,1)\n",
    "y_test = np.array(y_test).reshape(-1,1)\n",
    "final_predictions = scaler1.inverse_transform(y_pred)\n",
    "ground_truth = scaler1.inverse_transform(y_test)"
   ]
  },
  {
   "cell_type": "code",
   "execution_count": 34,
   "metadata": {
    "colab": {},
    "colab_type": "code",
    "id": "SqsORJdnqIOr",
    "outputId": "402a3c97-e166-4021-db0e-e522364bfba1"
   },
   "outputs": [
    {
     "name": "stdout",
     "output_type": "stream",
     "text": [
      "Final Test Mean Square Error Score : 0.0677\n"
     ]
    }
   ],
   "source": [
    "print(\"Final Test Mean Square Error Score : {:.4f}\".format(mean_squared_error(final_predictions,ground_truth)))"
   ]
  },
  {
   "cell_type": "code",
   "execution_count": 35,
   "metadata": {
    "colab": {},
    "colab_type": "code",
    "id": "2Wz0F_6fqIOu",
    "outputId": "a28d4983-34f7-4921-8c3d-c2c26504c378"
   },
   "outputs": [
    {
     "data": {
      "text/plain": [
       "6"
      ]
     },
     "execution_count": 35,
     "metadata": {},
     "output_type": "execute_result"
    }
   ],
   "source": [
    "len(scaler.min_)"
   ]
  },
  {
   "cell_type": "code",
   "execution_count": 36,
   "metadata": {
    "colab": {},
    "colab_type": "code",
    "id": "3iAA7lNRqIOw",
    "outputId": "f2669192-1857-4a0d-caad-92ce27b06f1b"
   },
   "outputs": [
    {
     "name": "stdout",
     "output_type": "stream",
     "text": [
      "Final Test Mean Square Error Score : 914909.5315\n",
      "Final Test Mean Square Error Score : 0.1524\n",
      "Final Test Mean Square Error Score : 0.0677\n",
      "Final Test Mean Square Error Score : 0.1524\n",
      "Final Test Mean Square Error Score : 0.1524\n",
      "Final Test Mean Square Error Score : 888955975373.2775\n"
     ]
    }
   ],
   "source": [
    "for i in range(6):\n",
    "    scaler1 = MinMaxScaler()\n",
    "    scaler1.min_, scaler1.scale_ = scaler.min_[i], scaler.scale_[i]\n",
    "    y_pred = y_pred.reshape(-1,1)\n",
    "    y_test = np.array(y_test).reshape(-1,1)\n",
    "    final_predictions = scaler1.inverse_transform(y_pred)\n",
    "    ground_truth = scaler1.inverse_transform(y_test)\n",
    "    print(\"Final Test Mean Square Error Score : {:.4f}\".format(mean_squared_error(final_predictions,ground_truth)))\n",
    "    "
   ]
  },
  {
   "cell_type": "markdown",
   "metadata": {
    "colab_type": "text",
    "id": "4uQz3Y6-K80m"
   },
   "source": [
    "***Building Liner regression model without sklearn(Normal Code)***"
   ]
  },
  {
   "cell_type": "code",
   "execution_count": 51,
   "metadata": {
    "colab": {},
    "colab_type": "code",
    "id": "qCVlAp8XqIOy"
   },
   "outputs": [],
   "source": [
    "class Regressor:\n",
    "    \n",
    "    def __init__(self, lr = 0.001, n_iters = 1000):\n",
    "        self.lr = lr\n",
    "        self.n_iters = n_iters\n",
    "        self.weights = None\n",
    "        self.bias = None\n",
    "    \n",
    "    def fit(self,X,y):\n",
    "        n_samples, n_features = X.shape\n",
    "        self.weights = np.zeros(n_features)\n",
    "        self.bias = 0\n",
    "        print(\"Shape of X : {}\".format(X.shape))\n",
    "        print(\"Shape of Weights : {}\".format(self.weights.shape))\n",
    "        for _ in range(self.n_iters):\n",
    "            \n",
    "            y_predicted = np.dot(X,self.weights) + self.bias\n",
    "            dw = (1/n_samples) * np.dot(X.T, (y_predicted - y))\n",
    "            db = (1/n_samples) * np.sum(y_predicted-y)\n",
    "            self.weights =  self.weights - self.lr * dw\n",
    "            self.bias = self.bias - self.lr * db\n",
    "      \n",
    "    def predict(self,X):\n",
    "        y_predicted = np.dot(X,self.weights) + self.bias\n",
    "        return y_predicted"
   ]
  },
  {
   "cell_type": "code",
   "execution_count": 52,
   "metadata": {
    "colab": {},
    "colab_type": "code",
    "id": "jDlkGzQIqIO4",
    "outputId": "26987d4a-af4f-4276-96ec-a5bcf63063f1"
   },
   "outputs": [
    {
     "name": "stdout",
     "output_type": "stream",
     "text": [
      "Shape of X_train:(412, 13)\n",
      "Shape of y_train:(412,)\n",
      "Shape of X_test:(104, 13)\n",
      "Shape of y_test:(104, 1)\n"
     ]
    }
   ],
   "source": [
    "print(\"Shape of X_train:{}\".format(X_train.shape))\n",
    "print(\"Shape of y_train:{}\".format(y_train.shape))\n",
    "print(\"Shape of X_test:{}\".format(X_test.shape))\n",
    "print(\"Shape of y_test:{}\".format(y_test.shape))"
   ]
  },
  {
   "cell_type": "code",
   "execution_count": 53,
   "metadata": {},
   "outputs": [],
   "source": [
    "regressor = Regressor()"
   ]
  },
  {
   "cell_type": "code",
   "execution_count": 54,
   "metadata": {},
   "outputs": [
    {
     "name": "stdout",
     "output_type": "stream",
     "text": [
      "Shape of X : (412, 13)\n",
      "Shape of Weights : (13,)\n"
     ]
    }
   ],
   "source": [
    "regressor.fit(X_train,y_train)"
   ]
  },
  {
   "cell_type": "code",
   "execution_count": 56,
   "metadata": {},
   "outputs": [
    {
     "name": "stdout",
     "output_type": "stream",
     "text": [
      "Train Mean Square error : 0.0271\n",
      "Test Mean Square error : 0.0327\n"
     ]
    }
   ],
   "source": [
    "y_pred = regressor.predict(X_test)\n",
    "y_pred_train = regressor.predict(X_train)\n",
    "print(\"Train Mean Square error : {:.4f}\".format(mean_squared_error(y_pred_train,y_train)))\n",
    "print(\"Test Mean Square error : {:.4f}\".format(mean_squared_error(y_pred,y_test)))"
   ]
  },
  {
   "cell_type": "code",
   "execution_count": null,
   "metadata": {
    "colab": {},
    "colab_type": "code",
    "id": "HtxZNrS6qIO7"
   },
   "outputs": [],
   "source": [
    "'''\n",
    "X.shape = (100, 10)\n",
    "w.shape = (10,1)\n",
    "y.shape = (100,1) -------------> (100,10) X (10, 1) = (100,1)\n",
    "\n",
    "\n",
    "(3x2)   (2x1)\n",
    "[1,2] x  [a]  =  [1*a + 2*b]\n",
    "[4,5]    [b]     [4*a + 5*b]\n",
    "[7,8]            [7*a + 8*b] \n",
    "\n",
    "y_pred = sum(xi*wi) // summation \n",
    "y_pred = np.dot(X,w) // vectorized\n",
    "'''\n",
    "\n"
   ]
  }
 ],
 "metadata": {
  "colab": {
   "collapsed_sections": [],
   "name": "House Price Prediction.ipynb",
   "provenance": []
  },
  "kernelspec": {
   "display_name": "Python 3",
   "language": "python",
   "name": "python3"
  },
  "language_info": {
   "codemirror_mode": {
    "name": "ipython",
    "version": 3
   },
   "file_extension": ".py",
   "mimetype": "text/x-python",
   "name": "python",
   "nbconvert_exporter": "python",
   "pygments_lexer": "ipython3",
   "version": "3.7.6"
  }
 },
 "nbformat": 4,
 "nbformat_minor": 4
}
