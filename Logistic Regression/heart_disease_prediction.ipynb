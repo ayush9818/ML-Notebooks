{
 "cells": [
  {
   "cell_type": "markdown",
   "metadata": {},
   "source": [
    "## Importing Libraries"
   ]
  },
  {
   "cell_type": "code",
   "execution_count": null,
   "metadata": {},
   "outputs": [],
   "source": [
    "import numpy as np\n",
    "import pandas as pd\n",
    "import matplotlib.pyplot as plt \n",
    "import seaborn as sns\n",
    "from sklearn.model_selection import train_test_split"
   ]
  },
  {
   "cell_type": "markdown",
   "metadata": {},
   "source": [
    "### Loading Data and Analysis"
   ]
  },
  {
   "cell_type": "code",
   "execution_count": 56,
   "metadata": {},
   "outputs": [
    {
     "data": {
      "text/plain": [
       "'\\nage - age in years\\nsex - (1 = male; 0 = female)\\ncp - chest pain type\\ntrestbps - resting blood pressure (in mm Hg on admission to the hospital)\\nchol - serum cholestoral in mg/dl\\nfbs - (fasting blood sugar > 120 mg/dl) (1 = true; 0 = false)\\nrestecg - resting electrocardiographic results\\nthalach - maximum heart rate achieved\\nexang - exercise induced angina (1 = yes; 0 = no)\\noldpeak - ST depression induced by exercise relative to rest\\nslope - the slope of the peak exercise ST segment\\nca - number of major vessels (0-3) colored by flourosopy\\nthal - 3 = normal; 6 = fixed defect; 7 = reversable defect\\ntarget - have disease or not (1=yes, 0=no)\\n'"
      ]
     },
     "execution_count": 56,
     "metadata": {},
     "output_type": "execute_result"
    }
   ],
   "source": [
    "# Data Attributes description\n",
    "\n",
    "'''\n",
    "age - age in years\n",
    "sex - (1 = male; 0 = female)\n",
    "cp - chest pain type\n",
    "trestbps - resting blood pressure (in mm Hg on admission to the hospital)\n",
    "chol - serum cholestoral in mg/dl\n",
    "fbs - (fasting blood sugar > 120 mg/dl) (1 = true; 0 = false)\n",
    "restecg - resting electrocardiographic results\n",
    "thalach - maximum heart rate achieved\n",
    "exang - exercise induced angina (1 = yes; 0 = no)\n",
    "oldpeak - ST depression induced by exercise relative to rest\n",
    "slope - the slope of the peak exercise ST segment\n",
    "ca - number of major vessels (0-3) colored by flourosopy\n",
    "thal - 3 = normal; 6 = fixed defect; 7 = reversable defect\n",
    "target - have disease or not (1=yes, 0=no)\n",
    "'''"
   ]
  },
  {
   "cell_type": "code",
   "execution_count": 57,
   "metadata": {},
   "outputs": [
    {
     "name": "stdout",
     "output_type": "stream",
     "text": [
      "   age  sex  cp  trestbps  chol  fbs  restecg  thalach  exang  oldpeak  slope  \\\n",
      "0   63    1   3       145   233    1        0      150      0      2.3      0   \n",
      "1   37    1   2       130   250    0        1      187      0      3.5      0   \n",
      "2   41    0   1       130   204    0        0      172      0      1.4      2   \n",
      "3   56    1   1       120   236    0        1      178      0      0.8      2   \n",
      "4   57    0   0       120   354    0        1      163      1      0.6      2   \n",
      "\n",
      "   ca  thal  target  \n",
      "0   0     1       1  \n",
      "1   0     2       1  \n",
      "2   0     2       1  \n",
      "3   0     2       1  \n",
      "4   0     2       1  \n"
     ]
    }
   ],
   "source": [
    "df = pd.read_csv('heart_disease.csv')\n",
    "print(df.head())"
   ]
  },
  {
   "cell_type": "code",
   "execution_count": 58,
   "metadata": {},
   "outputs": [
    {
     "name": "stdout",
     "output_type": "stream",
     "text": [
      "(303, 14)\n",
      "<class 'pandas.core.frame.DataFrame'>\n",
      "RangeIndex: 303 entries, 0 to 302\n",
      "Data columns (total 14 columns):\n",
      " #   Column    Non-Null Count  Dtype  \n",
      "---  ------    --------------  -----  \n",
      " 0   age       303 non-null    int64  \n",
      " 1   sex       303 non-null    int64  \n",
      " 2   cp        303 non-null    int64  \n",
      " 3   trestbps  303 non-null    int64  \n",
      " 4   chol      303 non-null    int64  \n",
      " 5   fbs       303 non-null    int64  \n",
      " 6   restecg   303 non-null    int64  \n",
      " 7   thalach   303 non-null    int64  \n",
      " 8   exang     303 non-null    int64  \n",
      " 9   oldpeak   303 non-null    float64\n",
      " 10  slope     303 non-null    int64  \n",
      " 11  ca        303 non-null    int64  \n",
      " 12  thal      303 non-null    int64  \n",
      " 13  target    303 non-null    int64  \n",
      "dtypes: float64(1), int64(13)\n",
      "memory usage: 33.3 KB\n",
      "None\n"
     ]
    }
   ],
   "source": [
    "print(df.shape)\n",
    "print(df.info())"
   ]
  },
  {
   "cell_type": "code",
   "execution_count": 59,
   "metadata": {},
   "outputs": [
    {
     "name": "stdout",
     "output_type": "stream",
     "text": [
      "age         0\n",
      "sex         0\n",
      "cp          0\n",
      "trestbps    0\n",
      "chol        0\n",
      "fbs         0\n",
      "restecg     0\n",
      "thalach     0\n",
      "exang       0\n",
      "oldpeak     0\n",
      "slope       0\n",
      "ca          0\n",
      "thal        0\n",
      "target      0\n",
      "dtype: int64\n"
     ]
    }
   ],
   "source": [
    "print(df.isnull().sum())"
   ]
  },
  {
   "cell_type": "code",
   "execution_count": 147,
   "metadata": {},
   "outputs": [
    {
     "data": {
      "text/plain": [
       "<matplotlib.axes._subplots.AxesSubplot at 0x7f9fe73e3d90>"
      ]
     },
     "execution_count": 147,
     "metadata": {},
     "output_type": "execute_result"
    },
    {
     "data": {
      "image/png": "[encoded data removed]",
      "text/plain": [
       "<Figure size 432x288 with 1 Axes>"
      ]
     },
     "metadata": {
      "needs_background": "light"
     },
     "output_type": "display_data"
    }
   ],
   "source": [
    "# Plot of number of persons having heart disease and no heart disease\n",
    "# 0 --> no disease 1--> heart disease\n",
    "sns.countplot('target', data = df)"
   ]
  },
  {
   "cell_type": "code",
   "execution_count": 61,
   "metadata": {},
   "outputs": [
    {
     "name": "stdout",
     "output_type": "stream",
     "text": [
      "Percentage of persons not having heart disease:45.54 %\n",
      "Percentage of persons having heart disease:54.46 %\n"
     ]
    }
   ],
   "source": [
    "print(\"Percentage of persons not having heart disease:{:.2f} %\".format(df[df['target']==0].shape[0] / df.shape[0] * 100))\n",
    "print(\"Percentage of persons having heart disease:{:.2f} %\".format(df[df['target']==1].shape[0] / df.shape[0] * 100))"
   ]
  },
  {
   "cell_type": "code",
   "execution_count": 148,
   "metadata": {},
   "outputs": [
    {
     "data": {
      "image/png": "[encoded data removed]",
      "text/plain": [
       "<Figure size 432x288 with 1 Axes>"
      ]
     },
     "metadata": {
      "needs_background": "light"
     },
     "output_type": "display_data"
    }
   ],
   "source": [
    "# Male and Female Count Plot\n",
    "sns.countplot('sex', data = df)\n",
    "plt.xlabel(\"Sex (0 = female, 1= male)\")\n",
    "plt.show()"
   ]
  },
  {
   "cell_type": "code",
   "execution_count": 149,
   "metadata": {},
   "outputs": [
    {
     "data": {
      "image/png": "[encoded data removed]",
      "text/plain": [
       "<Figure size 1080x432 with 1 Axes>"
      ]
     },
     "metadata": {
      "needs_background": "light"
     },
     "output_type": "display_data"
    }
   ],
   "source": [
    "# Analysis of Heart disease freq for male and female\n",
    "pd.crosstab(df.sex,df.target).plot(kind=\"bar\",figsize=(15,6))\n",
    "plt.title('Heart Disease Frequency for Sex')\n",
    "plt.xlabel('Sex (0 = Female, 1 = Male)')\n",
    "plt.xticks(rotation=0)\n",
    "plt.legend([\"Haven't Disease\", \"Have Disease\"])\n",
    "plt.ylabel('Frequency')\n",
    "plt.show()"
   ]
  },
  {
   "cell_type": "code",
   "execution_count": 64,
   "metadata": {},
   "outputs": [
    {
     "name": "stdout",
     "output_type": "stream",
     "text": [
      "Unique values of sex attribute :[1 0]\n",
      "Unique values of cp attribute :[3 2 1 0]\n",
      "Unique values of fbs attribute :[1 0]\n",
      "Unique values of restecg attribute :[0 1 2]\n",
      "Unique values of exang attribute :[0 1]\n",
      "Unique values of slope attribute :[0 2 1]\n",
      "Unique values of ca attribute :[0 2 1 3 4]\n",
      "Unique values of thal attribute :[1 2 3 0]\n",
      "Unique values of target attribute :[1 0]\n"
     ]
    }
   ],
   "source": [
    "'''\n",
    "age \n",
    "sex         \n",
    "cp          \n",
    "trestbps    \n",
    "chol        \n",
    "fbs         \n",
    "restecg     \n",
    "thalach     \n",
    "exang       \n",
    "oldpeak     \n",
    "slope       \n",
    "ca          \n",
    "thal        \n",
    "target      \n",
    "'''\n",
    "continuous_variables = ['age','trestbps','chol','thalach','oldpeak']\n",
    "for key in df.keys():\n",
    "    if key not in continuous_variables:\n",
    "        print(\"Unique values of {} attribute :{}\".format(key, df[key].unique()))\n"
   ]
  },
  {
   "cell_type": "code",
   "execution_count": 65,
   "metadata": {},
   "outputs": [
    {
     "data": {
      "image/png": "[encoded data removed]",
      "text/plain": [
       "<Figure size 720x360 with 6 Axes>"
      ]
     },
     "metadata": {
      "needs_background": "light"
     },
     "output_type": "display_data"
    }
   ],
   "source": [
    "\n",
    "#'age','trestbps','chol','thalach','oldpeak'\n",
    "\n",
    "\n",
    "fig, axs = plt.subplots(2,3,figsize = (10,5))\n",
    "plt1 = sns.boxplot(df['age'], ax = axs[0][0])\n",
    "plt2 = sns.boxplot(df['trestbps'], ax = axs[0][1])\n",
    "plt3 = sns.boxplot(df['chol'], ax = axs[0][2])\n",
    "plt4 = sns.boxplot(df['thalach'], ax = axs[1][0])\n",
    "plt5 = sns.boxplot(df['oldpeak'], ax = axs[1][1])\n",
    "\n",
    "plt.tight_layout()"
   ]
  },
  {
   "cell_type": "code",
   "execution_count": 66,
   "metadata": {},
   "outputs": [
    {
     "name": "stdout",
     "output_type": "stream",
     "text": [
      "(15, 14)\n",
      "(4, 14)\n",
      "(5, 14)\n"
     ]
    }
   ],
   "source": [
    "print(df[df['trestbps']>160].shape)\n",
    "print(df[df['chol']>400].shape)\n",
    "print(df[df['oldpeak']>4].shape)"
   ]
  },
  {
   "cell_type": "code",
   "execution_count": 67,
   "metadata": {},
   "outputs": [
    {
     "name": "stdout",
     "output_type": "stream",
     "text": [
      "   slope_1  slope_2\n",
      "0        0        0\n",
      "1        0        0\n",
      "2        0        1\n",
      "3        0        1\n",
      "4        0        1\n",
      "   thal_1  thal_2  thal_3\n",
      "0       1       0       0\n",
      "1       0       1       0\n",
      "2       0       1       0\n",
      "3       0       1       0\n",
      "4       0       1       0\n",
      "   cp_1  cp_2  cp_3\n",
      "0     0     0     1\n",
      "1     0     1     0\n",
      "2     1     0     0\n",
      "3     1     0     0\n",
      "4     0     0     0\n"
     ]
    }
   ],
   "source": [
    "'''\n",
    "slope\n",
    "thal\n",
    "cp\n",
    "'''\n",
    "\n",
    "slope_dummy = pd.get_dummies(df['slope'], drop_first = True, prefix = 'slope')\n",
    "thal_dummy = pd.get_dummies(df['thal'], drop_first = True, prefix = 'thal')\n",
    "cp_dummy = pd.get_dummies(df['cp'], drop_first = True, prefix = 'cp')\n",
    "\n",
    "print(slope_dummy.head())\n",
    "print(thal_dummy.head())\n",
    "print(cp_dummy.head())"
   ]
  },
  {
   "cell_type": "code",
   "execution_count": 68,
   "metadata": {},
   "outputs": [
    {
     "name": "stdout",
     "output_type": "stream",
     "text": [
      "   age  sex  cp  trestbps  chol  fbs  restecg  thalach  exang  oldpeak  ...  \\\n",
      "0   63    1   3       145   233    1        0      150      0      2.3  ...   \n",
      "1   37    1   2       130   250    0        1      187      0      3.5  ...   \n",
      "2   41    0   1       130   204    0        0      172      0      1.4  ...   \n",
      "3   56    1   1       120   236    0        1      178      0      0.8  ...   \n",
      "4   57    0   0       120   354    0        1      163      1      0.6  ...   \n",
      "\n",
      "   thal  target  slope_1  slope_2  thal_1  thal_2  thal_3  cp_1  cp_2  cp_3  \n",
      "0     1       1        0        0       1       0       0     0     0     1  \n",
      "1     2       1        0        0       0       1       0     0     1     0  \n",
      "2     2       1        0        1       0       1       0     1     0     0  \n",
      "3     2       1        0        1       0       1       0     1     0     0  \n",
      "4     2       1        0        1       0       1       0     0     0     0  \n",
      "\n",
      "[5 rows x 22 columns]\n"
     ]
    }
   ],
   "source": [
    "df = pd.concat([df,slope_dummy, thal_dummy, cp_dummy],axis=1)\n",
    "print(df.head())"
   ]
  },
  {
   "cell_type": "code",
   "execution_count": 69,
   "metadata": {},
   "outputs": [
    {
     "name": "stdout",
     "output_type": "stream",
     "text": [
      "   age  sex  trestbps  chol  fbs  restecg  thalach  exang  oldpeak  ca  \\\n",
      "0   63    1       145   233    1        0      150      0      2.3   0   \n",
      "1   37    1       130   250    0        1      187      0      3.5   0   \n",
      "2   41    0       130   204    0        0      172      0      1.4   0   \n",
      "3   56    1       120   236    0        1      178      0      0.8   0   \n",
      "4   57    0       120   354    0        1      163      1      0.6   0   \n",
      "\n",
      "   target  slope_1  slope_2  thal_1  thal_2  thal_3  cp_1  cp_2  cp_3  \n",
      "0       1        0        0       1       0       0     0     0     1  \n",
      "1       1        0        0       0       1       0     0     1     0  \n",
      "2       1        0        1       0       1       0     1     0     0  \n",
      "3       1        0        1       0       1       0     1     0     0  \n",
      "4       1        0        1       0       1       0     0     0     0  \n"
     ]
    }
   ],
   "source": [
    "df.drop(['slope', 'thal','cp'], axis = 1, inplace = True )\n",
    "print(df.head())"
   ]
  },
  {
   "cell_type": "code",
   "execution_count": 70,
   "metadata": {},
   "outputs": [
    {
     "name": "stdout",
     "output_type": "stream",
     "text": [
      "(303, 19)\n"
     ]
    }
   ],
   "source": [
    "print(df.shape)"
   ]
  },
  {
   "cell_type": "code",
   "execution_count": 71,
   "metadata": {},
   "outputs": [
    {
     "name": "stdout",
     "output_type": "stream",
     "text": [
      "(242, 19)\n",
      "(61, 19)\n"
     ]
    }
   ],
   "source": [
    "df_train, df_test = train_test_split(df, train_size = 0.8, test_size = 0.2, random_state = 200)\n",
    "print(df_train.shape)\n",
    "print(df_test.shape)"
   ]
  },
  {
   "cell_type": "code",
   "execution_count": 72,
   "metadata": {},
   "outputs": [
    {
     "name": "stdout",
     "output_type": "stream",
     "text": [
      "Shape of X_train : (242, 18)\n",
      "Shape of y_train : (242,)\n",
      "Shape of X_test : (61, 18)\n",
      "Shape of y_test : (61,)\n"
     ]
    }
   ],
   "source": [
    "y_train = df_train['target'].values\n",
    "X_train = df_train.drop('target',axis=1)\n",
    "y_test  = df_test['target'].values\n",
    "X_test  = df_test.drop('target',axis = 1)\n",
    "print(\"Shape of X_train : {}\".format(X_train.shape))\n",
    "print(\"Shape of y_train : {}\".format(y_train.shape))\n",
    "print(\"Shape of X_test : {}\".format(X_test.shape))\n",
    "print(\"Shape of y_test : {}\".format(y_test.shape))\n"
   ]
  },
  {
   "cell_type": "code",
   "execution_count": 73,
   "metadata": {},
   "outputs": [
    {
     "name": "stdout",
     "output_type": "stream",
     "text": [
      "(242, 18)\n",
      "(61, 18)\n"
     ]
    }
   ],
   "source": [
    "# Normalization of data  to bring the values between 0-1\n",
    "\n",
    "X_train = (X_train - np.min(X_train)) / (np.max(X_train) - np.min(X_train))\n",
    "X_test  = (X_test - np.min(X_test)) / (np.max(X_test) - np.min(X_test))\n",
    "print(X_train.shape)\n",
    "print(X_test.shape)"
   ]
  },
  {
   "cell_type": "code",
   "execution_count": 94,
   "metadata": {},
   "outputs": [],
   "source": [
    "X_train = np.array(X_train)\n",
    "y_train = np.array(y_train)\n",
    "X_test = np.array(X_test)\n",
    "y_test = np.array(y_test)"
   ]
  },
  {
   "cell_type": "markdown",
   "metadata": {},
   "source": [
    "### Logistic Regression implemented in Keras"
   ]
  },
  {
   "cell_type": "code",
   "execution_count": 95,
   "metadata": {},
   "outputs": [],
   "source": [
    "import tensorflow as tf\n",
    "from tensorflow.python.keras.models import Sequential\n",
    "from tensorflow.python.keras.layers import Dense\n",
    "from tensorflow.python.keras.optimizers import Adam"
   ]
  },
  {
   "cell_type": "code",
   "execution_count": 110,
   "metadata": {},
   "outputs": [
    {
     "name": "stdout",
     "output_type": "stream",
     "text": [
      "Model: \"sequential_9\"\n",
      "_________________________________________________________________\n",
      "Layer (type)                 Output Shape              Param #   \n",
      "=================================================================\n",
      "dense_8 (Dense)              (None, 1)                 19        \n",
      "=================================================================\n",
      "Total params: 19\n",
      "Trainable params: 19\n",
      "Non-trainable params: 0\n",
      "_________________________________________________________________\n",
      "None\n"
     ]
    }
   ],
   "source": [
    "model = Sequential()\n",
    "model.add(Dense(1, input_shape = (X_train.shape[1],), activation = 'sigmoid'))\n",
    "print(model.summary())"
   ]
  },
  {
   "cell_type": "code",
   "execution_count": 111,
   "metadata": {},
   "outputs": [
    {
     "name": "stdout",
     "output_type": "stream",
     "text": [
      "Train on 242 samples, validate on 61 samples\n",
      "Epoch 1/200\n",
      "242/242 [==============================] - 1s 4ms/sample - loss: 0.6543 - accuracy: 0.5744 - val_loss: 0.6814 - val_accuracy: 0.5082\n",
      "Epoch 2/200\n",
      "242/242 [==============================] - 0s 522us/sample - loss: 0.6353 - accuracy: 0.6033 - val_loss: 0.6537 - val_accuracy: 0.5082\n",
      "Epoch 3/200\n",
      "242/242 [==============================] - 0s 544us/sample - loss: 0.6190 - accuracy: 0.6281 - val_loss: 0.6298 - val_accuracy: 0.6393\n",
      "Epoch 4/200\n",
      "242/242 [==============================] - 0s 567us/sample - loss: 0.6044 - accuracy: 0.6777 - val_loss: 0.6094 - val_accuracy: 0.6885\n",
      "Epoch 5/200\n",
      "242/242 [==============================] - 0s 614us/sample - loss: 0.5916 - accuracy: 0.7190 - val_loss: 0.5925 - val_accuracy: 0.7213\n",
      "Epoch 6/200\n",
      "242/242 [==============================] - 0s 474us/sample - loss: 0.5806 - accuracy: 0.7355 - val_loss: 0.5786 - val_accuracy: 0.7377\n",
      "Epoch 7/200\n",
      "242/242 [==============================] - 0s 480us/sample - loss: 0.5704 - accuracy: 0.7521 - val_loss: 0.5638 - val_accuracy: 0.7541\n",
      "Epoch 8/200\n",
      "242/242 [==============================] - 0s 377us/sample - loss: 0.5606 - accuracy: 0.7727 - val_loss: 0.5506 - val_accuracy: 0.7705\n",
      "Epoch 9/200\n",
      "242/242 [==============================] - 0s 414us/sample - loss: 0.5520 - accuracy: 0.7727 - val_loss: 0.5387 - val_accuracy: 0.7869\n",
      "Epoch 10/200\n",
      "242/242 [==============================] - 0s 483us/sample - loss: 0.5443 - accuracy: 0.7810 - val_loss: 0.5291 - val_accuracy: 0.8033\n",
      "Epoch 11/200\n",
      "242/242 [==============================] - 0s 747us/sample - loss: 0.5367 - accuracy: 0.7810 - val_loss: 0.5197 - val_accuracy: 0.8033\n",
      "Epoch 12/200\n",
      "242/242 [==============================] - 0s 512us/sample - loss: 0.5298 - accuracy: 0.7934 - val_loss: 0.5102 - val_accuracy: 0.8197\n",
      "Epoch 13/200\n",
      "242/242 [==============================] - 0s 551us/sample - loss: 0.5231 - accuracy: 0.8017 - val_loss: 0.5029 - val_accuracy: 0.8197\n",
      "Epoch 14/200\n",
      "242/242 [==============================] - 0s 548us/sample - loss: 0.5169 - accuracy: 0.7934 - val_loss: 0.4945 - val_accuracy: 0.8197\n",
      "Epoch 15/200\n",
      "242/242 [==============================] - 0s 623us/sample - loss: 0.5107 - accuracy: 0.7934 - val_loss: 0.4868 - val_accuracy: 0.8197\n",
      "Epoch 16/200\n",
      "242/242 [==============================] - 0s 606us/sample - loss: 0.5051 - accuracy: 0.7975 - val_loss: 0.4788 - val_accuracy: 0.8197\n",
      "Epoch 17/200\n",
      "242/242 [==============================] - 0s 552us/sample - loss: 0.4996 - accuracy: 0.8058 - val_loss: 0.4725 - val_accuracy: 0.8361\n",
      "Epoch 18/200\n",
      "242/242 [==============================] - 0s 608us/sample - loss: 0.4946 - accuracy: 0.8058 - val_loss: 0.4656 - val_accuracy: 0.8361\n",
      "Epoch 19/200\n",
      "242/242 [==============================] - 0s 511us/sample - loss: 0.4895 - accuracy: 0.8182 - val_loss: 0.4603 - val_accuracy: 0.8361\n",
      "Epoch 20/200\n",
      "242/242 [==============================] - 0s 696us/sample - loss: 0.4850 - accuracy: 0.8182 - val_loss: 0.4550 - val_accuracy: 0.8361\n",
      "Epoch 21/200\n",
      "242/242 [==============================] - 0s 719us/sample - loss: 0.4808 - accuracy: 0.8182 - val_loss: 0.4488 - val_accuracy: 0.8525\n",
      "Epoch 22/200\n",
      "242/242 [==============================] - 0s 552us/sample - loss: 0.4772 - accuracy: 0.8306 - val_loss: 0.4441 - val_accuracy: 0.8525\n",
      "Epoch 23/200\n",
      "242/242 [==============================] - 0s 716us/sample - loss: 0.4731 - accuracy: 0.8347 - val_loss: 0.4401 - val_accuracy: 0.8525\n",
      "Epoch 24/200\n",
      "242/242 [==============================] - 0s 722us/sample - loss: 0.4696 - accuracy: 0.8347 - val_loss: 0.4351 - val_accuracy: 0.8689\n",
      "Epoch 25/200\n",
      "242/242 [==============================] - 0s 632us/sample - loss: 0.4662 - accuracy: 0.8347 - val_loss: 0.4319 - val_accuracy: 0.8689\n",
      "Epoch 26/200\n",
      "242/242 [==============================] - 0s 790us/sample - loss: 0.4635 - accuracy: 0.8388 - val_loss: 0.4287 - val_accuracy: 0.8689\n",
      "Epoch 27/200\n",
      "242/242 [==============================] - 0s 690us/sample - loss: 0.4603 - accuracy: 0.8430 - val_loss: 0.4234 - val_accuracy: 0.8852\n",
      "Epoch 28/200\n",
      "242/242 [==============================] - 0s 734us/sample - loss: 0.4573 - accuracy: 0.8388 - val_loss: 0.4201 - val_accuracy: 0.8852\n",
      "Epoch 29/200\n",
      "242/242 [==============================] - 0s 650us/sample - loss: 0.4545 - accuracy: 0.8388 - val_loss: 0.4154 - val_accuracy: 0.8852\n",
      "Epoch 30/200\n",
      "242/242 [==============================] - 0s 592us/sample - loss: 0.4519 - accuracy: 0.8388 - val_loss: 0.4118 - val_accuracy: 0.8852\n",
      "Epoch 31/200\n",
      "242/242 [==============================] - 0s 613us/sample - loss: 0.4492 - accuracy: 0.8347 - val_loss: 0.4084 - val_accuracy: 0.8852\n",
      "Epoch 32/200\n",
      "242/242 [==============================] - 0s 616us/sample - loss: 0.4469 - accuracy: 0.8347 - val_loss: 0.4059 - val_accuracy: 0.8852\n",
      "Epoch 33/200\n",
      "242/242 [==============================] - 0s 595us/sample - loss: 0.4444 - accuracy: 0.8347 - val_loss: 0.4032 - val_accuracy: 0.8852\n",
      "Epoch 34/200\n",
      "242/242 [==============================] - 0s 696us/sample - loss: 0.4425 - accuracy: 0.8347 - val_loss: 0.4013 - val_accuracy: 0.8852\n",
      "Epoch 35/200\n",
      "242/242 [==============================] - 0s 621us/sample - loss: 0.4409 - accuracy: 0.8306 - val_loss: 0.3973 - val_accuracy: 0.8852\n",
      "Epoch 36/200\n",
      "242/242 [==============================] - 0s 567us/sample - loss: 0.4384 - accuracy: 0.8347 - val_loss: 0.3960 - val_accuracy: 0.8852\n",
      "Epoch 37/200\n",
      "242/242 [==============================] - 0s 599us/sample - loss: 0.4364 - accuracy: 0.8306 - val_loss: 0.3931 - val_accuracy: 0.8852\n",
      "Epoch 38/200\n",
      "242/242 [==============================] - 0s 558us/sample - loss: 0.4347 - accuracy: 0.8306 - val_loss: 0.3914 - val_accuracy: 0.8852\n",
      "Epoch 39/200\n",
      "242/242 [==============================] - 0s 612us/sample - loss: 0.4330 - accuracy: 0.8306 - val_loss: 0.3895 - val_accuracy: 0.8852\n",
      "Epoch 40/200\n",
      "242/242 [==============================] - 0s 609us/sample - loss: 0.4314 - accuracy: 0.8306 - val_loss: 0.3871 - val_accuracy: 0.8852\n",
      "Epoch 41/200\n",
      "242/242 [==============================] - 0s 509us/sample - loss: 0.4295 - accuracy: 0.8347 - val_loss: 0.3839 - val_accuracy: 0.8852\n",
      "Epoch 42/200\n",
      "242/242 [==============================] - 0s 610us/sample - loss: 0.4281 - accuracy: 0.8347 - val_loss: 0.3821 - val_accuracy: 0.8852\n",
      "Epoch 43/200\n",
      "242/242 [==============================] - 0s 565us/sample - loss: 0.4264 - accuracy: 0.8347 - val_loss: 0.3794 - val_accuracy: 0.8852\n",
      "Epoch 44/200\n",
      "242/242 [==============================] - 0s 814us/sample - loss: 0.4250 - accuracy: 0.8264 - val_loss: 0.3769 - val_accuracy: 0.8852\n",
      "Epoch 45/200\n",
      "242/242 [==============================] - 0s 1ms/sample - loss: 0.4243 - accuracy: 0.8264 - val_loss: 0.3739 - val_accuracy: 0.8852\n",
      "Epoch 46/200\n",
      "242/242 [==============================] - 0s 1ms/sample - loss: 0.4223 - accuracy: 0.8264 - val_loss: 0.3729 - val_accuracy: 0.8852\n",
      "Epoch 47/200\n",
      "242/242 [==============================] - 0s 1ms/sample - loss: 0.4210 - accuracy: 0.8264 - val_loss: 0.3705 - val_accuracy: 0.8852\n",
      "Epoch 48/200\n",
      "242/242 [==============================] - 0s 741us/sample - loss: 0.4198 - accuracy: 0.8264 - val_loss: 0.3692 - val_accuracy: 0.8852\n",
      "Epoch 49/200\n",
      "242/242 [==============================] - 0s 622us/sample - loss: 0.4184 - accuracy: 0.8306 - val_loss: 0.3674 - val_accuracy: 0.8852\n",
      "Epoch 50/200\n",
      "242/242 [==============================] - 0s 821us/sample - loss: 0.4174 - accuracy: 0.8306 - val_loss: 0.3654 - val_accuracy: 0.8852\n",
      "Epoch 51/200\n",
      "242/242 [==============================] - 0s 712us/sample - loss: 0.4169 - accuracy: 0.8264 - val_loss: 0.3656 - val_accuracy: 0.8852\n",
      "Epoch 52/200\n",
      "242/242 [==============================] - 0s 750us/sample - loss: 0.4152 - accuracy: 0.8306 - val_loss: 0.3636 - val_accuracy: 0.8852\n",
      "Epoch 53/200\n",
      "242/242 [==============================] - 0s 772us/sample - loss: 0.4140 - accuracy: 0.8306 - val_loss: 0.3622 - val_accuracy: 0.8852\n",
      "Epoch 54/200\n",
      "242/242 [==============================] - 0s 694us/sample - loss: 0.4130 - accuracy: 0.8306 - val_loss: 0.3606 - val_accuracy: 0.8852\n",
      "Epoch 55/200\n",
      "242/242 [==============================] - 0s 951us/sample - loss: 0.4128 - accuracy: 0.8306 - val_loss: 0.3598 - val_accuracy: 0.8852\n",
      "Epoch 56/200\n",
      "242/242 [==============================] - 0s 1ms/sample - loss: 0.4110 - accuracy: 0.8306 - val_loss: 0.3578 - val_accuracy: 0.8852\n",
      "Epoch 57/200\n",
      "242/242 [==============================] - 0s 957us/sample - loss: 0.4102 - accuracy: 0.8347 - val_loss: 0.3557 - val_accuracy: 0.8852\n",
      "Epoch 58/200\n",
      "242/242 [==============================] - 0s 955us/sample - loss: 0.4092 - accuracy: 0.8347 - val_loss: 0.3548 - val_accuracy: 0.8852\n",
      "Epoch 59/200\n",
      "242/242 [==============================] - 0s 1ms/sample - loss: 0.4083 - accuracy: 0.8347 - val_loss: 0.3532 - val_accuracy: 0.8852\n",
      "Epoch 60/200\n",
      "242/242 [==============================] - 0s 658us/sample - loss: 0.4077 - accuracy: 0.8306 - val_loss: 0.3527 - val_accuracy: 0.8852\n",
      "Epoch 61/200\n",
      "242/242 [==============================] - 0s 602us/sample - loss: 0.4068 - accuracy: 0.8347 - val_loss: 0.3503 - val_accuracy: 0.8852\n",
      "Epoch 62/200\n",
      "242/242 [==============================] - 0s 545us/sample - loss: 0.4060 - accuracy: 0.8347 - val_loss: 0.3495 - val_accuracy: 0.8852\n",
      "Epoch 63/200\n",
      "242/242 [==============================] - 0s 757us/sample - loss: 0.4051 - accuracy: 0.8347 - val_loss: 0.3483 - val_accuracy: 0.8852\n",
      "Epoch 64/200\n",
      "242/242 [==============================] - 0s 758us/sample - loss: 0.4045 - accuracy: 0.8347 - val_loss: 0.3477 - val_accuracy: 0.8852\n",
      "Epoch 65/200\n",
      "242/242 [==============================] - 0s 942us/sample - loss: 0.4037 - accuracy: 0.8347 - val_loss: 0.3467 - val_accuracy: 0.8852\n",
      "Epoch 66/200\n",
      "242/242 [==============================] - 0s 1ms/sample - loss: 0.4030 - accuracy: 0.8347 - val_loss: 0.3457 - val_accuracy: 0.8852\n",
      "Epoch 67/200\n",
      "242/242 [==============================] - 0s 1ms/sample - loss: 0.4024 - accuracy: 0.8347 - val_loss: 0.3449 - val_accuracy: 0.8852\n",
      "Epoch 68/200\n",
      "242/242 [==============================] - 0s 839us/sample - loss: 0.4018 - accuracy: 0.8347 - val_loss: 0.3435 - val_accuracy: 0.9016\n",
      "Epoch 69/200\n",
      "242/242 [==============================] - 0s 590us/sample - loss: 0.4012 - accuracy: 0.8347 - val_loss: 0.3427 - val_accuracy: 0.9016\n",
      "Epoch 70/200\n",
      "242/242 [==============================] - 0s 548us/sample - loss: 0.4005 - accuracy: 0.8347 - val_loss: 0.3414 - val_accuracy: 0.9016\n",
      "Epoch 71/200\n",
      "242/242 [==============================] - 0s 1ms/sample - loss: 0.4003 - accuracy: 0.8347 - val_loss: 0.3403 - val_accuracy: 0.9016\n",
      "Epoch 72/200\n",
      "242/242 [==============================] - 0s 777us/sample - loss: 0.3993 - accuracy: 0.8347 - val_loss: 0.3404 - val_accuracy: 0.9016\n",
      "Epoch 73/200\n",
      "242/242 [==============================] - 0s 945us/sample - loss: 0.3987 - accuracy: 0.8347 - val_loss: 0.3400 - val_accuracy: 0.8852\n",
      "Epoch 74/200\n",
      "242/242 [==============================] - 0s 807us/sample - loss: 0.3981 - accuracy: 0.8347 - val_loss: 0.3395 - val_accuracy: 0.8852\n",
      "Epoch 75/200\n",
      "242/242 [==============================] - 0s 931us/sample - loss: 0.3977 - accuracy: 0.8347 - val_loss: 0.3380 - val_accuracy: 0.9016\n",
      "Epoch 76/200\n",
      "242/242 [==============================] - 0s 984us/sample - loss: 0.3970 - accuracy: 0.8347 - val_loss: 0.3375 - val_accuracy: 0.9016\n",
      "Epoch 77/200\n",
      "242/242 [==============================] - 0s 1ms/sample - loss: 0.3963 - accuracy: 0.8347 - val_loss: 0.3372 - val_accuracy: 0.9016\n",
      "Epoch 78/200\n",
      "242/242 [==============================] - 0s 1ms/sample - loss: 0.3962 - accuracy: 0.8347 - val_loss: 0.3357 - val_accuracy: 0.9016\n",
      "Epoch 79/200\n",
      "242/242 [==============================] - 0s 893us/sample - loss: 0.3954 - accuracy: 0.8347 - val_loss: 0.3362 - val_accuracy: 0.8852\n",
      "Epoch 80/200\n",
      "242/242 [==============================] - 0s 1ms/sample - loss: 0.3952 - accuracy: 0.8347 - val_loss: 0.3354 - val_accuracy: 0.8852\n",
      "Epoch 81/200\n",
      "242/242 [==============================] - 0s 997us/sample - loss: 0.3948 - accuracy: 0.8347 - val_loss: 0.3356 - val_accuracy: 0.8852\n",
      "Epoch 82/200\n",
      "242/242 [==============================] - 0s 1ms/sample - loss: 0.3944 - accuracy: 0.8347 - val_loss: 0.3333 - val_accuracy: 0.9016\n",
      "Epoch 83/200\n",
      "242/242 [==============================] - 0s 971us/sample - loss: 0.3934 - accuracy: 0.8347 - val_loss: 0.3332 - val_accuracy: 0.9016\n",
      "Epoch 84/200\n",
      "242/242 [==============================] - 0s 1ms/sample - loss: 0.3931 - accuracy: 0.8347 - val_loss: 0.3331 - val_accuracy: 0.9016\n",
      "Epoch 85/200\n",
      "242/242 [==============================] - 0s 1ms/sample - loss: 0.3924 - accuracy: 0.8347 - val_loss: 0.3321 - val_accuracy: 0.9016\n",
      "Epoch 86/200\n",
      "242/242 [==============================] - 0s 849us/sample - loss: 0.3922 - accuracy: 0.8347 - val_loss: 0.3325 - val_accuracy: 0.8852\n",
      "Epoch 87/200\n",
      "242/242 [==============================] - 0s 623us/sample - loss: 0.3915 - accuracy: 0.8347 - val_loss: 0.3311 - val_accuracy: 0.9016\n",
      "Epoch 88/200\n",
      "242/242 [==============================] - 0s 795us/sample - loss: 0.3912 - accuracy: 0.8347 - val_loss: 0.3304 - val_accuracy: 0.9016\n",
      "Epoch 89/200\n",
      "242/242 [==============================] - 0s 1ms/sample - loss: 0.3907 - accuracy: 0.8347 - val_loss: 0.3301 - val_accuracy: 0.9016\n",
      "Epoch 90/200\n",
      "242/242 [==============================] - 0s 948us/sample - loss: 0.3905 - accuracy: 0.8388 - val_loss: 0.3295 - val_accuracy: 0.9016\n",
      "Epoch 91/200\n",
      "242/242 [==============================] - 0s 1ms/sample - loss: 0.3900 - accuracy: 0.8347 - val_loss: 0.3286 - val_accuracy: 0.9016\n",
      "Epoch 92/200\n",
      "242/242 [==============================] - 0s 952us/sample - loss: 0.3896 - accuracy: 0.8388 - val_loss: 0.3287 - val_accuracy: 0.9016\n",
      "Epoch 93/200\n",
      "242/242 [==============================] - 0s 1ms/sample - loss: 0.3891 - accuracy: 0.8347 - val_loss: 0.3277 - val_accuracy: 0.9016\n",
      "Epoch 94/200\n",
      "242/242 [==============================] - 0s 942us/sample - loss: 0.3893 - accuracy: 0.8347 - val_loss: 0.3261 - val_accuracy: 0.9016\n",
      "Epoch 95/200\n",
      "242/242 [==============================] - 0s 1ms/sample - loss: 0.3885 - accuracy: 0.8347 - val_loss: 0.3257 - val_accuracy: 0.9016\n",
      "Epoch 96/200\n",
      "242/242 [==============================] - 0s 1ms/sample - loss: 0.3880 - accuracy: 0.8347 - val_loss: 0.3254 - val_accuracy: 0.9016\n",
      "Epoch 97/200\n",
      "242/242 [==============================] - 0s 781us/sample - loss: 0.3879 - accuracy: 0.8347 - val_loss: 0.3250 - val_accuracy: 0.9016\n",
      "Epoch 98/200\n",
      "242/242 [==============================] - 0s 522us/sample - loss: 0.3875 - accuracy: 0.8347 - val_loss: 0.3241 - val_accuracy: 0.9016\n",
      "Epoch 99/200\n",
      "242/242 [==============================] - 0s 368us/sample - loss: 0.3873 - accuracy: 0.8430 - val_loss: 0.3248 - val_accuracy: 0.9016\n",
      "Epoch 100/200\n",
      "242/242 [==============================] - 0s 1ms/sample - loss: 0.3872 - accuracy: 0.8347 - val_loss: 0.3236 - val_accuracy: 0.9016\n",
      "Epoch 101/200\n",
      "242/242 [==============================] - 0s 966us/sample - loss: 0.3862 - accuracy: 0.8347 - val_loss: 0.3235 - val_accuracy: 0.9016\n",
      "Epoch 102/200\n",
      "242/242 [==============================] - 0s 1ms/sample - loss: 0.3860 - accuracy: 0.8430 - val_loss: 0.3240 - val_accuracy: 0.9016\n",
      "Epoch 103/200\n",
      "242/242 [==============================] - 0s 1ms/sample - loss: 0.3856 - accuracy: 0.8430 - val_loss: 0.3230 - val_accuracy: 0.9016\n",
      "Epoch 104/200\n",
      "242/242 [==============================] - 0s 1ms/sample - loss: 0.3855 - accuracy: 0.8430 - val_loss: 0.3220 - val_accuracy: 0.9016\n",
      "Epoch 105/200\n",
      "242/242 [==============================] - 0s 977us/sample - loss: 0.3849 - accuracy: 0.8430 - val_loss: 0.3223 - val_accuracy: 0.9016\n",
      "Epoch 106/200\n",
      "242/242 [==============================] - 0s 1ms/sample - loss: 0.3847 - accuracy: 0.8430 - val_loss: 0.3217 - val_accuracy: 0.9016\n",
      "Epoch 107/200\n",
      "242/242 [==============================] - 0s 1ms/sample - loss: 0.3846 - accuracy: 0.8430 - val_loss: 0.3205 - val_accuracy: 0.9016\n",
      "Epoch 108/200\n",
      "242/242 [==============================] - 0s 825us/sample - loss: 0.3840 - accuracy: 0.8430 - val_loss: 0.3208 - val_accuracy: 0.9016\n",
      "Epoch 109/200\n",
      "242/242 [==============================] - 0s 984us/sample - loss: 0.3839 - accuracy: 0.8430 - val_loss: 0.3209 - val_accuracy: 0.9016\n",
      "Epoch 110/200\n",
      "242/242 [==============================] - 0s 948us/sample - loss: 0.3839 - accuracy: 0.8388 - val_loss: 0.3198 - val_accuracy: 0.9016\n",
      "Epoch 111/200\n",
      "242/242 [==============================] - 0s 950us/sample - loss: 0.3836 - accuracy: 0.8430 - val_loss: 0.3203 - val_accuracy: 0.9016\n",
      "Epoch 112/200\n",
      "242/242 [==============================] - 0s 1ms/sample - loss: 0.3829 - accuracy: 0.8430 - val_loss: 0.3199 - val_accuracy: 0.9016\n",
      "Epoch 113/200\n",
      "242/242 [==============================] - 0s 1ms/sample - loss: 0.3825 - accuracy: 0.8430 - val_loss: 0.3191 - val_accuracy: 0.9016\n",
      "Epoch 114/200\n",
      "242/242 [==============================] - 0s 780us/sample - loss: 0.3825 - accuracy: 0.8430 - val_loss: 0.3184 - val_accuracy: 0.9016\n",
      "Epoch 115/200\n",
      "242/242 [==============================] - 0s 1ms/sample - loss: 0.3821 - accuracy: 0.8430 - val_loss: 0.3174 - val_accuracy: 0.9016\n",
      "Epoch 116/200\n",
      "242/242 [==============================] - 0s 1ms/sample - loss: 0.3818 - accuracy: 0.8430 - val_loss: 0.3179 - val_accuracy: 0.9016\n",
      "Epoch 117/200\n",
      "242/242 [==============================] - 0s 949us/sample - loss: 0.3814 - accuracy: 0.8430 - val_loss: 0.3179 - val_accuracy: 0.9016\n",
      "Epoch 118/200\n",
      "242/242 [==============================] - 0s 933us/sample - loss: 0.3812 - accuracy: 0.8430 - val_loss: 0.3174 - val_accuracy: 0.9016\n",
      "Epoch 119/200\n",
      "242/242 [==============================] - 0s 1ms/sample - loss: 0.3809 - accuracy: 0.8430 - val_loss: 0.3170 - val_accuracy: 0.9016\n",
      "Epoch 120/200\n",
      "242/242 [==============================] - 0s 957us/sample - loss: 0.3806 - accuracy: 0.8430 - val_loss: 0.3171 - val_accuracy: 0.9016\n",
      "Epoch 121/200\n",
      "242/242 [==============================] - 0s 1ms/sample - loss: 0.3803 - accuracy: 0.8430 - val_loss: 0.3165 - val_accuracy: 0.9016\n",
      "Epoch 122/200\n",
      "242/242 [==============================] - 0s 964us/sample - loss: 0.3802 - accuracy: 0.8430 - val_loss: 0.3156 - val_accuracy: 0.9016\n",
      "Epoch 123/200\n",
      "242/242 [==============================] - 0s 1ms/sample - loss: 0.3801 - accuracy: 0.8430 - val_loss: 0.3157 - val_accuracy: 0.9016\n",
      "Epoch 124/200\n",
      "242/242 [==============================] - 0s 1ms/sample - loss: 0.3796 - accuracy: 0.8430 - val_loss: 0.3158 - val_accuracy: 0.9016\n",
      "Epoch 125/200\n",
      "242/242 [==============================] - 0s 1ms/sample - loss: 0.3794 - accuracy: 0.8430 - val_loss: 0.3152 - val_accuracy: 0.9016\n",
      "Epoch 126/200\n",
      "242/242 [==============================] - 0s 982us/sample - loss: 0.3791 - accuracy: 0.8430 - val_loss: 0.3153 - val_accuracy: 0.9016\n",
      "Epoch 127/200\n",
      "242/242 [==============================] - 0s 1ms/sample - loss: 0.3789 - accuracy: 0.8430 - val_loss: 0.3149 - val_accuracy: 0.9016\n",
      "Epoch 128/200\n",
      "242/242 [==============================] - 0s 1ms/sample - loss: 0.3787 - accuracy: 0.8430 - val_loss: 0.3148 - val_accuracy: 0.9016\n",
      "Epoch 129/200\n",
      "242/242 [==============================] - 0s 1ms/sample - loss: 0.3783 - accuracy: 0.8430 - val_loss: 0.3136 - val_accuracy: 0.9016\n",
      "Epoch 130/200\n",
      "242/242 [==============================] - 0s 853us/sample - loss: 0.3784 - accuracy: 0.8430 - val_loss: 0.3135 - val_accuracy: 0.9016\n",
      "Epoch 131/200\n",
      "242/242 [==============================] - 0s 1ms/sample - loss: 0.3780 - accuracy: 0.8430 - val_loss: 0.3139 - val_accuracy: 0.9016\n",
      "Epoch 132/200\n",
      "242/242 [==============================] - 0s 971us/sample - loss: 0.3777 - accuracy: 0.8430 - val_loss: 0.3132 - val_accuracy: 0.9016\n",
      "Epoch 133/200\n",
      "242/242 [==============================] - 0s 775us/sample - loss: 0.3774 - accuracy: 0.8430 - val_loss: 0.3129 - val_accuracy: 0.9016\n",
      "Epoch 134/200\n",
      "242/242 [==============================] - 0s 1ms/sample - loss: 0.3774 - accuracy: 0.8430 - val_loss: 0.3134 - val_accuracy: 0.9016\n",
      "Epoch 135/200\n",
      "242/242 [==============================] - 0s 1ms/sample - loss: 0.3772 - accuracy: 0.8430 - val_loss: 0.3126 - val_accuracy: 0.9016\n",
      "Epoch 136/200\n",
      "242/242 [==============================] - 0s 989us/sample - loss: 0.3768 - accuracy: 0.8430 - val_loss: 0.3128 - val_accuracy: 0.9016\n",
      "Epoch 137/200\n",
      "242/242 [==============================] - 0s 660us/sample - loss: 0.3767 - accuracy: 0.8430 - val_loss: 0.3123 - val_accuracy: 0.9016\n",
      "Epoch 138/200\n",
      "242/242 [==============================] - 0s 772us/sample - loss: 0.3764 - accuracy: 0.8471 - val_loss: 0.3121 - val_accuracy: 0.9016\n",
      "Epoch 139/200\n",
      "242/242 [==============================] - 0s 770us/sample - loss: 0.3763 - accuracy: 0.8471 - val_loss: 0.3119 - val_accuracy: 0.9016\n",
      "Epoch 140/200\n",
      "242/242 [==============================] - 0s 980us/sample - loss: 0.3761 - accuracy: 0.8430 - val_loss: 0.3126 - val_accuracy: 0.9016\n",
      "Epoch 141/200\n",
      "242/242 [==============================] - 0s 813us/sample - loss: 0.3758 - accuracy: 0.8430 - val_loss: 0.3124 - val_accuracy: 0.9016\n",
      "Epoch 142/200\n",
      "242/242 [==============================] - 0s 942us/sample - loss: 0.3756 - accuracy: 0.8430 - val_loss: 0.3127 - val_accuracy: 0.9016\n",
      "Epoch 143/200\n",
      "242/242 [==============================] - 0s 1ms/sample - loss: 0.3755 - accuracy: 0.8388 - val_loss: 0.3123 - val_accuracy: 0.9016\n",
      "Epoch 144/200\n",
      "242/242 [==============================] - 0s 1ms/sample - loss: 0.3754 - accuracy: 0.8388 - val_loss: 0.3124 - val_accuracy: 0.9016\n",
      "Epoch 145/200\n",
      "242/242 [==============================] - 0s 834us/sample - loss: 0.3752 - accuracy: 0.8471 - val_loss: 0.3114 - val_accuracy: 0.9016\n",
      "Epoch 146/200\n",
      "242/242 [==============================] - 0s 1ms/sample - loss: 0.3748 - accuracy: 0.8430 - val_loss: 0.3116 - val_accuracy: 0.9016\n",
      "Epoch 147/200\n",
      "242/242 [==============================] - 0s 1ms/sample - loss: 0.3747 - accuracy: 0.8388 - val_loss: 0.3118 - val_accuracy: 0.9016\n",
      "Epoch 148/200\n",
      "242/242 [==============================] - 0s 894us/sample - loss: 0.3744 - accuracy: 0.8430 - val_loss: 0.3111 - val_accuracy: 0.9016\n",
      "Epoch 149/200\n",
      "242/242 [==============================] - 0s 815us/sample - loss: 0.3742 - accuracy: 0.8388 - val_loss: 0.3117 - val_accuracy: 0.9016\n",
      "Epoch 150/200\n",
      "242/242 [==============================] - 0s 702us/sample - loss: 0.3740 - accuracy: 0.8430 - val_loss: 0.3108 - val_accuracy: 0.9016\n",
      "Epoch 151/200\n",
      "242/242 [==============================] - 0s 766us/sample - loss: 0.3744 - accuracy: 0.8388 - val_loss: 0.3113 - val_accuracy: 0.9016\n",
      "Epoch 152/200\n",
      "242/242 [==============================] - 0s 1ms/sample - loss: 0.3737 - accuracy: 0.8430 - val_loss: 0.3109 - val_accuracy: 0.9016\n",
      "Epoch 153/200\n",
      "242/242 [==============================] - 0s 1ms/sample - loss: 0.3740 - accuracy: 0.8471 - val_loss: 0.3099 - val_accuracy: 0.9016\n",
      "Epoch 154/200\n",
      "242/242 [==============================] - 0s 625us/sample - loss: 0.3736 - accuracy: 0.8430 - val_loss: 0.3110 - val_accuracy: 0.9016\n",
      "Epoch 155/200\n",
      "242/242 [==============================] - 0s 708us/sample - loss: 0.3733 - accuracy: 0.8430 - val_loss: 0.3104 - val_accuracy: 0.9016\n",
      "Epoch 156/200\n",
      "242/242 [==============================] - 0s 839us/sample - loss: 0.3730 - accuracy: 0.8430 - val_loss: 0.3097 - val_accuracy: 0.9180\n",
      "Epoch 157/200\n",
      "242/242 [==============================] - 0s 709us/sample - loss: 0.3728 - accuracy: 0.8430 - val_loss: 0.3094 - val_accuracy: 0.9180\n",
      "Epoch 158/200\n",
      "242/242 [==============================] - 0s 783us/sample - loss: 0.3727 - accuracy: 0.8430 - val_loss: 0.3091 - val_accuracy: 0.9180\n",
      "Epoch 159/200\n",
      "242/242 [==============================] - 0s 1ms/sample - loss: 0.3724 - accuracy: 0.8430 - val_loss: 0.3085 - val_accuracy: 0.9180\n",
      "Epoch 160/200\n",
      "242/242 [==============================] - 0s 997us/sample - loss: 0.3726 - accuracy: 0.8471 - val_loss: 0.3083 - val_accuracy: 0.9180\n",
      "Epoch 161/200\n",
      "242/242 [==============================] - 0s 1ms/sample - loss: 0.3722 - accuracy: 0.8471 - val_loss: 0.3082 - val_accuracy: 0.9180\n",
      "Epoch 162/200\n",
      "242/242 [==============================] - 0s 960us/sample - loss: 0.3722 - accuracy: 0.8471 - val_loss: 0.3077 - val_accuracy: 0.9180\n",
      "Epoch 163/200\n",
      "242/242 [==============================] - 0s 1ms/sample - loss: 0.3719 - accuracy: 0.8471 - val_loss: 0.3081 - val_accuracy: 0.9180\n",
      "Epoch 164/200\n",
      "242/242 [==============================] - 0s 899us/sample - loss: 0.3717 - accuracy: 0.8471 - val_loss: 0.3084 - val_accuracy: 0.9180\n",
      "Epoch 165/200\n",
      "242/242 [==============================] - 0s 971us/sample - loss: 0.3715 - accuracy: 0.8471 - val_loss: 0.3081 - val_accuracy: 0.9180\n",
      "Epoch 166/200\n",
      "242/242 [==============================] - 0s 774us/sample - loss: 0.3714 - accuracy: 0.8471 - val_loss: 0.3073 - val_accuracy: 0.9180\n",
      "Epoch 167/200\n",
      "242/242 [==============================] - 0s 863us/sample - loss: 0.3713 - accuracy: 0.8471 - val_loss: 0.3081 - val_accuracy: 0.9180\n",
      "Epoch 168/200\n",
      "242/242 [==============================] - 0s 737us/sample - loss: 0.3711 - accuracy: 0.8471 - val_loss: 0.3080 - val_accuracy: 0.9180\n",
      "Epoch 169/200\n",
      "242/242 [==============================] - 0s 793us/sample - loss: 0.3709 - accuracy: 0.8471 - val_loss: 0.3080 - val_accuracy: 0.9180\n",
      "Epoch 170/200\n",
      "242/242 [==============================] - 0s 1ms/sample - loss: 0.3711 - accuracy: 0.8471 - val_loss: 0.3079 - val_accuracy: 0.9180\n",
      "Epoch 171/200\n",
      "242/242 [==============================] - 0s 992us/sample - loss: 0.3709 - accuracy: 0.8471 - val_loss: 0.3071 - val_accuracy: 0.9180\n",
      "Epoch 172/200\n",
      "242/242 [==============================] - 0s 898us/sample - loss: 0.3704 - accuracy: 0.8471 - val_loss: 0.3084 - val_accuracy: 0.9180\n",
      "Epoch 173/200\n",
      "242/242 [==============================] - 0s 1ms/sample - loss: 0.3703 - accuracy: 0.8430 - val_loss: 0.3085 - val_accuracy: 0.9180\n",
      "Epoch 174/200\n",
      "242/242 [==============================] - 0s 709us/sample - loss: 0.3704 - accuracy: 0.8430 - val_loss: 0.3071 - val_accuracy: 0.9180\n",
      "Epoch 175/200\n",
      "242/242 [==============================] - 0s 1ms/sample - loss: 0.3700 - accuracy: 0.8471 - val_loss: 0.3077 - val_accuracy: 0.9180\n",
      "Epoch 176/200\n",
      "242/242 [==============================] - 0s 1ms/sample - loss: 0.3699 - accuracy: 0.8471 - val_loss: 0.3074 - val_accuracy: 0.9180\n",
      "Epoch 177/200\n",
      "242/242 [==============================] - 0s 1ms/sample - loss: 0.3702 - accuracy: 0.8471 - val_loss: 0.3064 - val_accuracy: 0.9180\n",
      "Epoch 178/200\n",
      "242/242 [==============================] - 0s 1ms/sample - loss: 0.3698 - accuracy: 0.8471 - val_loss: 0.3072 - val_accuracy: 0.9180\n",
      "Epoch 179/200\n",
      "242/242 [==============================] - 0s 986us/sample - loss: 0.3695 - accuracy: 0.8471 - val_loss: 0.3065 - val_accuracy: 0.9180\n",
      "Epoch 180/200\n",
      "242/242 [==============================] - 0s 949us/sample - loss: 0.3694 - accuracy: 0.8471 - val_loss: 0.3068 - val_accuracy: 0.9180\n",
      "Epoch 181/200\n",
      "242/242 [==============================] - 0s 1ms/sample - loss: 0.3693 - accuracy: 0.8471 - val_loss: 0.3066 - val_accuracy: 0.9180\n",
      "Epoch 182/200\n",
      "242/242 [==============================] - 0s 1ms/sample - loss: 0.3699 - accuracy: 0.8471 - val_loss: 0.3060 - val_accuracy: 0.9180\n",
      "Epoch 183/200\n",
      "242/242 [==============================] - 0s 1ms/sample - loss: 0.3691 - accuracy: 0.8471 - val_loss: 0.3068 - val_accuracy: 0.9180\n",
      "Epoch 184/200\n",
      "242/242 [==============================] - ETA: 0s - loss: 0.3291 - accuracy: 0.86 - 0s 814us/sample - loss: 0.3689 - accuracy: 0.8512 - val_loss: 0.3070 - val_accuracy: 0.9180\n",
      "Epoch 185/200\n",
      "242/242 [==============================] - 0s 1ms/sample - loss: 0.3688 - accuracy: 0.8512 - val_loss: 0.3065 - val_accuracy: 0.9180\n",
      "Epoch 186/200\n",
      "242/242 [==============================] - 0s 951us/sample - loss: 0.3687 - accuracy: 0.8471 - val_loss: 0.3056 - val_accuracy: 0.9180\n",
      "Epoch 187/200\n",
      "242/242 [==============================] - 0s 1ms/sample - loss: 0.3685 - accuracy: 0.8512 - val_loss: 0.3060 - val_accuracy: 0.9180\n",
      "Epoch 188/200\n",
      "242/242 [==============================] - 0s 1ms/sample - loss: 0.3683 - accuracy: 0.8471 - val_loss: 0.3054 - val_accuracy: 0.9180\n",
      "Epoch 189/200\n",
      "242/242 [==============================] - 0s 854us/sample - loss: 0.3682 - accuracy: 0.8512 - val_loss: 0.3053 - val_accuracy: 0.9180\n",
      "Epoch 190/200\n",
      "242/242 [==============================] - 0s 1ms/sample - loss: 0.3684 - accuracy: 0.8471 - val_loss: 0.3046 - val_accuracy: 0.9180\n",
      "Epoch 191/200\n",
      "242/242 [==============================] - 0s 778us/sample - loss: 0.3682 - accuracy: 0.8512 - val_loss: 0.3056 - val_accuracy: 0.9180\n",
      "Epoch 192/200\n",
      "242/242 [==============================] - 0s 979us/sample - loss: 0.3679 - accuracy: 0.8512 - val_loss: 0.3055 - val_accuracy: 0.9180\n",
      "Epoch 193/200\n",
      "242/242 [==============================] - 0s 932us/sample - loss: 0.3679 - accuracy: 0.8512 - val_loss: 0.3049 - val_accuracy: 0.9180\n",
      "Epoch 194/200\n",
      "242/242 [==============================] - 0s 847us/sample - loss: 0.3677 - accuracy: 0.8512 - val_loss: 0.3049 - val_accuracy: 0.9180\n",
      "Epoch 195/200\n",
      "242/242 [==============================] - 0s 828us/sample - loss: 0.3675 - accuracy: 0.8512 - val_loss: 0.3052 - val_accuracy: 0.9180\n",
      "Epoch 196/200\n",
      "242/242 [==============================] - 0s 946us/sample - loss: 0.3673 - accuracy: 0.8512 - val_loss: 0.3054 - val_accuracy: 0.9180\n",
      "Epoch 197/200\n",
      "242/242 [==============================] - 0s 1ms/sample - loss: 0.3675 - accuracy: 0.8471 - val_loss: 0.3058 - val_accuracy: 0.9180\n",
      "Epoch 198/200\n",
      "242/242 [==============================] - 0s 974us/sample - loss: 0.3672 - accuracy: 0.8471 - val_loss: 0.3051 - val_accuracy: 0.9180\n",
      "Epoch 199/200\n",
      "242/242 [==============================] - 0s 790us/sample - loss: 0.3671 - accuracy: 0.8471 - val_loss: 0.3054 - val_accuracy: 0.9180\n",
      "Epoch 200/200\n",
      "242/242 [==============================] - 0s 1ms/sample - loss: 0.3669 - accuracy: 0.8512 - val_loss: 0.3052 - val_accuracy: 0.9180\n"
     ]
    },
    {
     "data": {
      "text/plain": [
       "<tensorflow.python.keras.callbacks.History at 0x7fa014038550>"
      ]
     },
     "execution_count": 111,
     "metadata": {},
     "output_type": "execute_result"
    }
   ],
   "source": [
    "model.compile(loss = 'binary_crossentropy', optimizer = 'adam', metrics = ['accuracy'])\n",
    "model.fit(X_train,y_train,epochs = 200, validation_data = [X_test,y_test], batch_size = 8)"
   ]
  },
  {
   "cell_type": "code",
   "execution_count": 118,
   "metadata": {},
   "outputs": [],
   "source": [
    "y_pred = model.predict(X_test)"
   ]
  },
  {
   "cell_type": "code",
   "execution_count": 119,
   "metadata": {},
   "outputs": [],
   "source": [
    "for i in range(y_pred.shape[0]):\n",
    "    if y_pred[i] >= 0.5:\n",
    "        y_pred[i] = 1\n",
    "    else:\n",
    "        y_pred[i] = 0"
   ]
  },
  {
   "cell_type": "code",
   "execution_count": 134,
   "metadata": {},
   "outputs": [
    {
     "name": "stdout",
     "output_type": "stream",
     "text": [
      "(61, 1)\n"
     ]
    }
   ],
   "source": [
    "y_test = y_test.reshape(-1,1)\n",
    "print(y_test.shape)"
   ]
  },
  {
   "cell_type": "code",
   "execution_count": 136,
   "metadata": {},
   "outputs": [
    {
     "name": "stdout",
     "output_type": "stream",
     "text": [
      "Test Accuracy : 91.80 %\n"
     ]
    }
   ],
   "source": [
    "accuracy = np.sum(y_test == y_pred) / y_test.shape[0]\n",
    "print(\"Test Accuracy : {:.2f} %\".format(accuracy * 100))"
   ]
  },
  {
   "cell_type": "code",
   "execution_count": 139,
   "metadata": {},
   "outputs": [
    {
     "data": {
      "text/plain": [
       "<matplotlib.axes._subplots.AxesSubplot at 0x7f9fe743f090>"
      ]
     },
     "execution_count": 139,
     "metadata": {},
     "output_type": "execute_result"
    },
    {
     "data": {
      "image/png": "[encoded data removed]",
      "text/plain": [
       "<Figure size 432x288 with 2 Axes>"
      ]
     },
     "metadata": {
      "needs_background": "light"
     },
     "output_type": "display_data"
    }
   ],
   "source": [
    "from sklearn.metrics import confusion_matrix\n",
    "cm = confusion_matrix(y_test,y_pred)\n",
    "df_cm = pd.DataFrame(cm)\n",
    "df_cm.index.name = 'Actual'\n",
    "df_cm.columns.name = 'Predicted'\n",
    "sns.heatmap(df_cm, annot = True)"
   ]
  },
  {
   "cell_type": "markdown",
   "metadata": {},
   "source": [
    "### Logistic Regression implemented in Sklearn"
   ]
  },
  {
   "cell_type": "code",
   "execution_count": 140,
   "metadata": {},
   "outputs": [],
   "source": [
    "from sklearn.linear_model import LogisticRegression\n",
    "lr = LogisticRegression()"
   ]
  },
  {
   "cell_type": "code",
   "execution_count": 141,
   "metadata": {},
   "outputs": [
    {
     "data": {
      "text/plain": [
       "LogisticRegression()"
      ]
     },
     "execution_count": 141,
     "metadata": {},
     "output_type": "execute_result"
    }
   ],
   "source": [
    "lr.fit(X_train,y_train)"
   ]
  },
  {
   "cell_type": "code",
   "execution_count": 142,
   "metadata": {},
   "outputs": [],
   "source": [
    "y_pred = lr.predict(X_test)\n",
    "y_pred_train = lr.predict(X_train)"
   ]
  },
  {
   "cell_type": "code",
   "execution_count": 146,
   "metadata": {},
   "outputs": [
    {
     "name": "stdout",
     "output_type": "stream",
     "text": [
      "Train Accuracy : 85.12% \n",
      "Test Accuracy : 91.80% \n"
     ]
    }
   ],
   "source": [
    "from sklearn.metrics import accuracy_score\n",
    "print(\"Train Accuracy : {:.2f}% \".format(accuracy_score(y_train, y_pred_train)*100))\n",
    "print(\"Test Accuracy : {:.2f}% \".format(accuracy_score(y_test, y_pred)*100))"
   ]
  }
 ],
 "metadata": {
  "kernelspec": {
   "display_name": "Python 3",
   "language": "python",
   "name": "python3"
  },
  "language_info": {
   "codemirror_mode": {
    "name": "ipython",
    "version": 3
   },
   "file_extension": ".py",
   "mimetype": "text/x-python",
   "name": "python",
   "nbconvert_exporter": "python",
   "pygments_lexer": "ipython3",
   "version": "3.7.6"
  }
 },
 "nbformat": 4,
 "nbformat_minor": 4
}
